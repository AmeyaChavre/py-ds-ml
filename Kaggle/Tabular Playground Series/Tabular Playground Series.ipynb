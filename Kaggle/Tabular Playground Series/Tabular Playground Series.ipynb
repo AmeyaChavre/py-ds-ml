{
 "cells": [
  {
   "cell_type": "markdown",
   "metadata": {},
   "source": [
    "# Tabular Playground Series"
   ]
  },
  {
   "cell_type": "code",
   "execution_count": 21,
   "metadata": {},
   "outputs": [],
   "source": [
    "import numpy as np\n",
    "import pandas as pd\n",
    "import matplotlib.pyplot as plt\n",
    "import seaborn as sns\n",
    "%matplotlib inline"
   ]
  },
  {
   "cell_type": "markdown",
   "metadata": {},
   "source": [
    "## Train Data"
   ]
  },
  {
   "cell_type": "code",
   "execution_count": 22,
   "metadata": {},
   "outputs": [],
   "source": [
    "df_train = pd.read_csv(\"train.csv\")"
   ]
  },
  {
   "cell_type": "code",
   "execution_count": 23,
   "metadata": {},
   "outputs": [
    {
     "data": {
      "text/html": [
       "<div>\n",
       "<style scoped>\n",
       "    .dataframe tbody tr th:only-of-type {\n",
       "        vertical-align: middle;\n",
       "    }\n",
       "\n",
       "    .dataframe tbody tr th {\n",
       "        vertical-align: top;\n",
       "    }\n",
       "\n",
       "    .dataframe thead th {\n",
       "        text-align: right;\n",
       "    }\n",
       "</style>\n",
       "<table border=\"1\" class=\"dataframe\">\n",
       "  <thead>\n",
       "    <tr style=\"text-align: right;\">\n",
       "      <th></th>\n",
       "      <th>id</th>\n",
       "      <th>cont1</th>\n",
       "      <th>cont2</th>\n",
       "      <th>cont3</th>\n",
       "      <th>cont4</th>\n",
       "      <th>cont5</th>\n",
       "      <th>cont6</th>\n",
       "      <th>cont7</th>\n",
       "      <th>cont8</th>\n",
       "      <th>cont9</th>\n",
       "      <th>cont10</th>\n",
       "      <th>cont11</th>\n",
       "      <th>cont12</th>\n",
       "      <th>cont13</th>\n",
       "      <th>cont14</th>\n",
       "      <th>target</th>\n",
       "    </tr>\n",
       "  </thead>\n",
       "  <tbody>\n",
       "    <tr>\n",
       "      <th>0</th>\n",
       "      <td>1</td>\n",
       "      <td>0.670390</td>\n",
       "      <td>0.811300</td>\n",
       "      <td>0.643968</td>\n",
       "      <td>0.291791</td>\n",
       "      <td>0.284117</td>\n",
       "      <td>0.855953</td>\n",
       "      <td>0.890700</td>\n",
       "      <td>0.285542</td>\n",
       "      <td>0.558245</td>\n",
       "      <td>0.779418</td>\n",
       "      <td>0.921832</td>\n",
       "      <td>0.866772</td>\n",
       "      <td>0.878733</td>\n",
       "      <td>0.305411</td>\n",
       "      <td>7.243043</td>\n",
       "    </tr>\n",
       "    <tr>\n",
       "      <th>1</th>\n",
       "      <td>3</td>\n",
       "      <td>0.388053</td>\n",
       "      <td>0.621104</td>\n",
       "      <td>0.686102</td>\n",
       "      <td>0.501149</td>\n",
       "      <td>0.643790</td>\n",
       "      <td>0.449805</td>\n",
       "      <td>0.510824</td>\n",
       "      <td>0.580748</td>\n",
       "      <td>0.418335</td>\n",
       "      <td>0.432632</td>\n",
       "      <td>0.439872</td>\n",
       "      <td>0.434971</td>\n",
       "      <td>0.369957</td>\n",
       "      <td>0.369484</td>\n",
       "      <td>8.203331</td>\n",
       "    </tr>\n",
       "    <tr>\n",
       "      <th>2</th>\n",
       "      <td>4</td>\n",
       "      <td>0.834950</td>\n",
       "      <td>0.227436</td>\n",
       "      <td>0.301584</td>\n",
       "      <td>0.293408</td>\n",
       "      <td>0.606839</td>\n",
       "      <td>0.829175</td>\n",
       "      <td>0.506143</td>\n",
       "      <td>0.558771</td>\n",
       "      <td>0.587603</td>\n",
       "      <td>0.823312</td>\n",
       "      <td>0.567007</td>\n",
       "      <td>0.677708</td>\n",
       "      <td>0.882938</td>\n",
       "      <td>0.303047</td>\n",
       "      <td>7.776091</td>\n",
       "    </tr>\n",
       "    <tr>\n",
       "      <th>3</th>\n",
       "      <td>5</td>\n",
       "      <td>0.820708</td>\n",
       "      <td>0.160155</td>\n",
       "      <td>0.546887</td>\n",
       "      <td>0.726104</td>\n",
       "      <td>0.282444</td>\n",
       "      <td>0.785108</td>\n",
       "      <td>0.752758</td>\n",
       "      <td>0.823267</td>\n",
       "      <td>0.574466</td>\n",
       "      <td>0.580843</td>\n",
       "      <td>0.769594</td>\n",
       "      <td>0.818143</td>\n",
       "      <td>0.914281</td>\n",
       "      <td>0.279528</td>\n",
       "      <td>6.957716</td>\n",
       "    </tr>\n",
       "    <tr>\n",
       "      <th>4</th>\n",
       "      <td>8</td>\n",
       "      <td>0.935278</td>\n",
       "      <td>0.421235</td>\n",
       "      <td>0.303801</td>\n",
       "      <td>0.880214</td>\n",
       "      <td>0.665610</td>\n",
       "      <td>0.830131</td>\n",
       "      <td>0.487113</td>\n",
       "      <td>0.604157</td>\n",
       "      <td>0.874658</td>\n",
       "      <td>0.863427</td>\n",
       "      <td>0.983575</td>\n",
       "      <td>0.900464</td>\n",
       "      <td>0.935918</td>\n",
       "      <td>0.435772</td>\n",
       "      <td>7.951046</td>\n",
       "    </tr>\n",
       "  </tbody>\n",
       "</table>\n",
       "</div>"
      ],
      "text/plain": [
       "   id     cont1     cont2     cont3     cont4     cont5     cont6     cont7  \\\n",
       "0   1  0.670390  0.811300  0.643968  0.291791  0.284117  0.855953  0.890700   \n",
       "1   3  0.388053  0.621104  0.686102  0.501149  0.643790  0.449805  0.510824   \n",
       "2   4  0.834950  0.227436  0.301584  0.293408  0.606839  0.829175  0.506143   \n",
       "3   5  0.820708  0.160155  0.546887  0.726104  0.282444  0.785108  0.752758   \n",
       "4   8  0.935278  0.421235  0.303801  0.880214  0.665610  0.830131  0.487113   \n",
       "\n",
       "      cont8     cont9    cont10    cont11    cont12    cont13    cont14  \\\n",
       "0  0.285542  0.558245  0.779418  0.921832  0.866772  0.878733  0.305411   \n",
       "1  0.580748  0.418335  0.432632  0.439872  0.434971  0.369957  0.369484   \n",
       "2  0.558771  0.587603  0.823312  0.567007  0.677708  0.882938  0.303047   \n",
       "3  0.823267  0.574466  0.580843  0.769594  0.818143  0.914281  0.279528   \n",
       "4  0.604157  0.874658  0.863427  0.983575  0.900464  0.935918  0.435772   \n",
       "\n",
       "     target  \n",
       "0  7.243043  \n",
       "1  8.203331  \n",
       "2  7.776091  \n",
       "3  6.957716  \n",
       "4  7.951046  "
      ]
     },
     "execution_count": 23,
     "metadata": {},
     "output_type": "execute_result"
    }
   ],
   "source": [
    "df_train.head()"
   ]
  },
  {
   "cell_type": "code",
   "execution_count": 24,
   "metadata": {},
   "outputs": [
    {
     "name": "stdout",
     "output_type": "stream",
     "text": [
      "<class 'pandas.core.frame.DataFrame'>\n",
      "RangeIndex: 300000 entries, 0 to 299999\n",
      "Data columns (total 16 columns):\n",
      " #   Column  Non-Null Count   Dtype  \n",
      "---  ------  --------------   -----  \n",
      " 0   id      300000 non-null  int64  \n",
      " 1   cont1   300000 non-null  float64\n",
      " 2   cont2   300000 non-null  float64\n",
      " 3   cont3   300000 non-null  float64\n",
      " 4   cont4   300000 non-null  float64\n",
      " 5   cont5   300000 non-null  float64\n",
      " 6   cont6   300000 non-null  float64\n",
      " 7   cont7   300000 non-null  float64\n",
      " 8   cont8   300000 non-null  float64\n",
      " 9   cont9   300000 non-null  float64\n",
      " 10  cont10  300000 non-null  float64\n",
      " 11  cont11  300000 non-null  float64\n",
      " 12  cont12  300000 non-null  float64\n",
      " 13  cont13  300000 non-null  float64\n",
      " 14  cont14  300000 non-null  float64\n",
      " 15  target  300000 non-null  float64\n",
      "dtypes: float64(15), int64(1)\n",
      "memory usage: 36.6 MB\n"
     ]
    }
   ],
   "source": [
    "df_train.info()"
   ]
  },
  {
   "cell_type": "code",
   "execution_count": 25,
   "metadata": {},
   "outputs": [
    {
     "data": {
      "text/html": [
       "<div>\n",
       "<style scoped>\n",
       "    .dataframe tbody tr th:only-of-type {\n",
       "        vertical-align: middle;\n",
       "    }\n",
       "\n",
       "    .dataframe tbody tr th {\n",
       "        vertical-align: top;\n",
       "    }\n",
       "\n",
       "    .dataframe thead th {\n",
       "        text-align: right;\n",
       "    }\n",
       "</style>\n",
       "<table border=\"1\" class=\"dataframe\">\n",
       "  <thead>\n",
       "    <tr style=\"text-align: right;\">\n",
       "      <th></th>\n",
       "      <th>count</th>\n",
       "      <th>mean</th>\n",
       "      <th>std</th>\n",
       "      <th>min</th>\n",
       "      <th>25%</th>\n",
       "      <th>50%</th>\n",
       "      <th>75%</th>\n",
       "      <th>max</th>\n",
       "    </tr>\n",
       "  </thead>\n",
       "  <tbody>\n",
       "    <tr>\n",
       "      <th>id</th>\n",
       "      <td>300000.0</td>\n",
       "      <td>249825.145857</td>\n",
       "      <td>144476.732562</td>\n",
       "      <td>1.000000</td>\n",
       "      <td>124656.500000</td>\n",
       "      <td>249738.500000</td>\n",
       "      <td>374836.250000</td>\n",
       "      <td>499999.000000</td>\n",
       "    </tr>\n",
       "    <tr>\n",
       "      <th>cont1</th>\n",
       "      <td>300000.0</td>\n",
       "      <td>0.506873</td>\n",
       "      <td>0.203976</td>\n",
       "      <td>-0.082263</td>\n",
       "      <td>0.343078</td>\n",
       "      <td>0.484005</td>\n",
       "      <td>0.643789</td>\n",
       "      <td>1.016227</td>\n",
       "    </tr>\n",
       "    <tr>\n",
       "      <th>cont2</th>\n",
       "      <td>300000.0</td>\n",
       "      <td>0.497898</td>\n",
       "      <td>0.228159</td>\n",
       "      <td>-0.031397</td>\n",
       "      <td>0.319170</td>\n",
       "      <td>0.553209</td>\n",
       "      <td>0.731263</td>\n",
       "      <td>0.859697</td>\n",
       "    </tr>\n",
       "    <tr>\n",
       "      <th>cont3</th>\n",
       "      <td>300000.0</td>\n",
       "      <td>0.521557</td>\n",
       "      <td>0.200770</td>\n",
       "      <td>0.020967</td>\n",
       "      <td>0.344096</td>\n",
       "      <td>0.551471</td>\n",
       "      <td>0.648315</td>\n",
       "      <td>1.006955</td>\n",
       "    </tr>\n",
       "    <tr>\n",
       "      <th>cont4</th>\n",
       "      <td>300000.0</td>\n",
       "      <td>0.515683</td>\n",
       "      <td>0.233035</td>\n",
       "      <td>0.152761</td>\n",
       "      <td>0.294935</td>\n",
       "      <td>0.482880</td>\n",
       "      <td>0.748705</td>\n",
       "      <td>1.010402</td>\n",
       "    </tr>\n",
       "    <tr>\n",
       "      <th>cont5</th>\n",
       "      <td>300000.0</td>\n",
       "      <td>0.502022</td>\n",
       "      <td>0.220701</td>\n",
       "      <td>0.276377</td>\n",
       "      <td>0.284108</td>\n",
       "      <td>0.451733</td>\n",
       "      <td>0.670660</td>\n",
       "      <td>1.034261</td>\n",
       "    </tr>\n",
       "    <tr>\n",
       "      <th>cont6</th>\n",
       "      <td>300000.0</td>\n",
       "      <td>0.526515</td>\n",
       "      <td>0.217909</td>\n",
       "      <td>0.066166</td>\n",
       "      <td>0.356163</td>\n",
       "      <td>0.470988</td>\n",
       "      <td>0.694043</td>\n",
       "      <td>1.043858</td>\n",
       "    </tr>\n",
       "    <tr>\n",
       "      <th>cont7</th>\n",
       "      <td>300000.0</td>\n",
       "      <td>0.487890</td>\n",
       "      <td>0.181096</td>\n",
       "      <td>-0.097666</td>\n",
       "      <td>0.346600</td>\n",
       "      <td>0.466825</td>\n",
       "      <td>0.581292</td>\n",
       "      <td>1.066167</td>\n",
       "    </tr>\n",
       "    <tr>\n",
       "      <th>cont8</th>\n",
       "      <td>300000.0</td>\n",
       "      <td>0.525163</td>\n",
       "      <td>0.216221</td>\n",
       "      <td>0.217260</td>\n",
       "      <td>0.341486</td>\n",
       "      <td>0.483460</td>\n",
       "      <td>0.685250</td>\n",
       "      <td>1.024427</td>\n",
       "    </tr>\n",
       "    <tr>\n",
       "      <th>cont9</th>\n",
       "      <td>300000.0</td>\n",
       "      <td>0.459857</td>\n",
       "      <td>0.196685</td>\n",
       "      <td>-0.240604</td>\n",
       "      <td>0.330832</td>\n",
       "      <td>0.416843</td>\n",
       "      <td>0.575041</td>\n",
       "      <td>1.004114</td>\n",
       "    </tr>\n",
       "    <tr>\n",
       "      <th>cont10</th>\n",
       "      <td>300000.0</td>\n",
       "      <td>0.520532</td>\n",
       "      <td>0.201854</td>\n",
       "      <td>-0.085046</td>\n",
       "      <td>0.375465</td>\n",
       "      <td>0.458877</td>\n",
       "      <td>0.700292</td>\n",
       "      <td>1.199951</td>\n",
       "    </tr>\n",
       "    <tr>\n",
       "      <th>cont11</th>\n",
       "      <td>300000.0</td>\n",
       "      <td>0.483926</td>\n",
       "      <td>0.220082</td>\n",
       "      <td>0.083277</td>\n",
       "      <td>0.300474</td>\n",
       "      <td>0.441916</td>\n",
       "      <td>0.679128</td>\n",
       "      <td>1.022620</td>\n",
       "    </tr>\n",
       "    <tr>\n",
       "      <th>cont12</th>\n",
       "      <td>300000.0</td>\n",
       "      <td>0.506877</td>\n",
       "      <td>0.218947</td>\n",
       "      <td>0.088635</td>\n",
       "      <td>0.310166</td>\n",
       "      <td>0.486599</td>\n",
       "      <td>0.694453</td>\n",
       "      <td>1.049025</td>\n",
       "    </tr>\n",
       "    <tr>\n",
       "      <th>cont13</th>\n",
       "      <td>300000.0</td>\n",
       "      <td>0.553442</td>\n",
       "      <td>0.229730</td>\n",
       "      <td>0.029950</td>\n",
       "      <td>0.350472</td>\n",
       "      <td>0.487707</td>\n",
       "      <td>0.768479</td>\n",
       "      <td>0.977845</td>\n",
       "    </tr>\n",
       "    <tr>\n",
       "      <th>cont14</th>\n",
       "      <td>300000.0</td>\n",
       "      <td>0.503713</td>\n",
       "      <td>0.208238</td>\n",
       "      <td>0.166367</td>\n",
       "      <td>0.308673</td>\n",
       "      <td>0.431845</td>\n",
       "      <td>0.712653</td>\n",
       "      <td>0.868506</td>\n",
       "    </tr>\n",
       "    <tr>\n",
       "      <th>target</th>\n",
       "      <td>300000.0</td>\n",
       "      <td>7.905661</td>\n",
       "      <td>0.733071</td>\n",
       "      <td>0.000000</td>\n",
       "      <td>7.329367</td>\n",
       "      <td>7.940571</td>\n",
       "      <td>8.470084</td>\n",
       "      <td>10.267569</td>\n",
       "    </tr>\n",
       "  </tbody>\n",
       "</table>\n",
       "</div>"
      ],
      "text/plain": [
       "           count           mean            std       min            25%  \\\n",
       "id      300000.0  249825.145857  144476.732562  1.000000  124656.500000   \n",
       "cont1   300000.0       0.506873       0.203976 -0.082263       0.343078   \n",
       "cont2   300000.0       0.497898       0.228159 -0.031397       0.319170   \n",
       "cont3   300000.0       0.521557       0.200770  0.020967       0.344096   \n",
       "cont4   300000.0       0.515683       0.233035  0.152761       0.294935   \n",
       "cont5   300000.0       0.502022       0.220701  0.276377       0.284108   \n",
       "cont6   300000.0       0.526515       0.217909  0.066166       0.356163   \n",
       "cont7   300000.0       0.487890       0.181096 -0.097666       0.346600   \n",
       "cont8   300000.0       0.525163       0.216221  0.217260       0.341486   \n",
       "cont9   300000.0       0.459857       0.196685 -0.240604       0.330832   \n",
       "cont10  300000.0       0.520532       0.201854 -0.085046       0.375465   \n",
       "cont11  300000.0       0.483926       0.220082  0.083277       0.300474   \n",
       "cont12  300000.0       0.506877       0.218947  0.088635       0.310166   \n",
       "cont13  300000.0       0.553442       0.229730  0.029950       0.350472   \n",
       "cont14  300000.0       0.503713       0.208238  0.166367       0.308673   \n",
       "target  300000.0       7.905661       0.733071  0.000000       7.329367   \n",
       "\n",
       "                  50%            75%            max  \n",
       "id      249738.500000  374836.250000  499999.000000  \n",
       "cont1        0.484005       0.643789       1.016227  \n",
       "cont2        0.553209       0.731263       0.859697  \n",
       "cont3        0.551471       0.648315       1.006955  \n",
       "cont4        0.482880       0.748705       1.010402  \n",
       "cont5        0.451733       0.670660       1.034261  \n",
       "cont6        0.470988       0.694043       1.043858  \n",
       "cont7        0.466825       0.581292       1.066167  \n",
       "cont8        0.483460       0.685250       1.024427  \n",
       "cont9        0.416843       0.575041       1.004114  \n",
       "cont10       0.458877       0.700292       1.199951  \n",
       "cont11       0.441916       0.679128       1.022620  \n",
       "cont12       0.486599       0.694453       1.049025  \n",
       "cont13       0.487707       0.768479       0.977845  \n",
       "cont14       0.431845       0.712653       0.868506  \n",
       "target       7.940571       8.470084      10.267569  "
      ]
     },
     "execution_count": 25,
     "metadata": {},
     "output_type": "execute_result"
    }
   ],
   "source": [
    "df_train.describe().transpose()"
   ]
  },
  {
   "cell_type": "code",
   "execution_count": 26,
   "metadata": {},
   "outputs": [
    {
     "data": {
      "text/plain": [
       "<matplotlib.axes._subplots.AxesSubplot at 0x20f093b96a0>"
      ]
     },
     "execution_count": 26,
     "metadata": {},
     "output_type": "execute_result"
    },
    {
     "data": {
      "image/png": "[encoded data removed]",
      "text/plain": [
       "<Figure size 432x288 with 2 Axes>"
      ]
     },
     "metadata": {
      "needs_background": "light"
     },
     "output_type": "display_data"
    }
   ],
   "source": [
    "sns.heatmap(df_train.isnull(),cmap=\"plasma\")"
   ]
  },
  {
   "cell_type": "code",
   "execution_count": 27,
   "metadata": {},
   "outputs": [
    {
     "data": {
      "text/plain": [
       "0"
      ]
     },
     "execution_count": 27,
     "metadata": {},
     "output_type": "execute_result"
    }
   ],
   "source": [
    "sum(df_train.isnull().any(axis=1))"
   ]
  },
  {
   "cell_type": "code",
   "execution_count": 28,
   "metadata": {},
   "outputs": [
    {
     "data": {
      "text/plain": [
       "Index(['id', 'cont1', 'cont2', 'cont3', 'cont4', 'cont5', 'cont6', 'cont7',\n",
       "       'cont8', 'cont9', 'cont10', 'cont11', 'cont12', 'cont13', 'cont14',\n",
       "       'target'],\n",
       "      dtype='object')"
      ]
     },
     "execution_count": 28,
     "metadata": {},
     "output_type": "execute_result"
    }
   ],
   "source": [
    "df_train.columns"
   ]
  },
  {
   "cell_type": "markdown",
   "metadata": {},
   "source": [
    "## Test Data"
   ]
  },
  {
   "cell_type": "code",
   "execution_count": 29,
   "metadata": {},
   "outputs": [],
   "source": [
    "df_test = pd.read_csv(\"test.csv\")"
   ]
  },
  {
   "cell_type": "code",
   "execution_count": 30,
   "metadata": {},
   "outputs": [
    {
     "data": {
      "text/html": [
       "<div>\n",
       "<style scoped>\n",
       "    .dataframe tbody tr th:only-of-type {\n",
       "        vertical-align: middle;\n",
       "    }\n",
       "\n",
       "    .dataframe tbody tr th {\n",
       "        vertical-align: top;\n",
       "    }\n",
       "\n",
       "    .dataframe thead th {\n",
       "        text-align: right;\n",
       "    }\n",
       "</style>\n",
       "<table border=\"1\" class=\"dataframe\">\n",
       "  <thead>\n",
       "    <tr style=\"text-align: right;\">\n",
       "      <th></th>\n",
       "      <th>id</th>\n",
       "      <th>cont1</th>\n",
       "      <th>cont2</th>\n",
       "      <th>cont3</th>\n",
       "      <th>cont4</th>\n",
       "      <th>cont5</th>\n",
       "      <th>cont6</th>\n",
       "      <th>cont7</th>\n",
       "      <th>cont8</th>\n",
       "      <th>cont9</th>\n",
       "      <th>cont10</th>\n",
       "      <th>cont11</th>\n",
       "      <th>cont12</th>\n",
       "      <th>cont13</th>\n",
       "      <th>cont14</th>\n",
       "    </tr>\n",
       "  </thead>\n",
       "  <tbody>\n",
       "    <tr>\n",
       "      <th>0</th>\n",
       "      <td>0</td>\n",
       "      <td>0.353600</td>\n",
       "      <td>0.738780</td>\n",
       "      <td>0.600939</td>\n",
       "      <td>0.293377</td>\n",
       "      <td>0.285691</td>\n",
       "      <td>0.458006</td>\n",
       "      <td>0.620704</td>\n",
       "      <td>0.422249</td>\n",
       "      <td>0.369203</td>\n",
       "      <td>0.435727</td>\n",
       "      <td>0.550540</td>\n",
       "      <td>0.699134</td>\n",
       "      <td>0.286864</td>\n",
       "      <td>0.364515</td>\n",
       "    </tr>\n",
       "    <tr>\n",
       "      <th>1</th>\n",
       "      <td>2</td>\n",
       "      <td>0.907222</td>\n",
       "      <td>0.189756</td>\n",
       "      <td>0.215531</td>\n",
       "      <td>0.869915</td>\n",
       "      <td>0.301333</td>\n",
       "      <td>0.528958</td>\n",
       "      <td>0.390351</td>\n",
       "      <td>0.521112</td>\n",
       "      <td>0.794779</td>\n",
       "      <td>0.798580</td>\n",
       "      <td>0.446475</td>\n",
       "      <td>0.449037</td>\n",
       "      <td>0.916964</td>\n",
       "      <td>0.513002</td>\n",
       "    </tr>\n",
       "    <tr>\n",
       "      <th>2</th>\n",
       "      <td>6</td>\n",
       "      <td>0.179287</td>\n",
       "      <td>0.355353</td>\n",
       "      <td>0.623972</td>\n",
       "      <td>0.437812</td>\n",
       "      <td>0.282476</td>\n",
       "      <td>0.320826</td>\n",
       "      <td>0.386789</td>\n",
       "      <td>0.776422</td>\n",
       "      <td>0.222268</td>\n",
       "      <td>0.229102</td>\n",
       "      <td>0.211913</td>\n",
       "      <td>0.222651</td>\n",
       "      <td>0.327164</td>\n",
       "      <td>0.827941</td>\n",
       "    </tr>\n",
       "    <tr>\n",
       "      <th>3</th>\n",
       "      <td>7</td>\n",
       "      <td>0.359385</td>\n",
       "      <td>0.181049</td>\n",
       "      <td>0.551368</td>\n",
       "      <td>0.206386</td>\n",
       "      <td>0.280763</td>\n",
       "      <td>0.482076</td>\n",
       "      <td>0.506677</td>\n",
       "      <td>0.362793</td>\n",
       "      <td>0.379737</td>\n",
       "      <td>0.345686</td>\n",
       "      <td>0.445276</td>\n",
       "      <td>0.518485</td>\n",
       "      <td>0.299028</td>\n",
       "      <td>0.598166</td>\n",
       "    </tr>\n",
       "    <tr>\n",
       "      <th>4</th>\n",
       "      <td>10</td>\n",
       "      <td>0.335791</td>\n",
       "      <td>0.682607</td>\n",
       "      <td>0.676481</td>\n",
       "      <td>0.219465</td>\n",
       "      <td>0.282861</td>\n",
       "      <td>0.581721</td>\n",
       "      <td>0.748639</td>\n",
       "      <td>0.350158</td>\n",
       "      <td>0.448915</td>\n",
       "      <td>0.506878</td>\n",
       "      <td>0.817721</td>\n",
       "      <td>0.805895</td>\n",
       "      <td>0.790591</td>\n",
       "      <td>0.249275</td>\n",
       "    </tr>\n",
       "  </tbody>\n",
       "</table>\n",
       "</div>"
      ],
      "text/plain": [
       "   id     cont1     cont2     cont3     cont4     cont5     cont6     cont7  \\\n",
       "0   0  0.353600  0.738780  0.600939  0.293377  0.285691  0.458006  0.620704   \n",
       "1   2  0.907222  0.189756  0.215531  0.869915  0.301333  0.528958  0.390351   \n",
       "2   6  0.179287  0.355353  0.623972  0.437812  0.282476  0.320826  0.386789   \n",
       "3   7  0.359385  0.181049  0.551368  0.206386  0.280763  0.482076  0.506677   \n",
       "4  10  0.335791  0.682607  0.676481  0.219465  0.282861  0.581721  0.748639   \n",
       "\n",
       "      cont8     cont9    cont10    cont11    cont12    cont13    cont14  \n",
       "0  0.422249  0.369203  0.435727  0.550540  0.699134  0.286864  0.364515  \n",
       "1  0.521112  0.794779  0.798580  0.446475  0.449037  0.916964  0.513002  \n",
       "2  0.776422  0.222268  0.229102  0.211913  0.222651  0.327164  0.827941  \n",
       "3  0.362793  0.379737  0.345686  0.445276  0.518485  0.299028  0.598166  \n",
       "4  0.350158  0.448915  0.506878  0.817721  0.805895  0.790591  0.249275  "
      ]
     },
     "execution_count": 30,
     "metadata": {},
     "output_type": "execute_result"
    }
   ],
   "source": [
    "df_test.head()"
   ]
  },
  {
   "cell_type": "code",
   "execution_count": 31,
   "metadata": {},
   "outputs": [
    {
     "name": "stdout",
     "output_type": "stream",
     "text": [
      "<class 'pandas.core.frame.DataFrame'>\n",
      "RangeIndex: 200000 entries, 0 to 199999\n",
      "Data columns (total 15 columns):\n",
      " #   Column  Non-Null Count   Dtype  \n",
      "---  ------  --------------   -----  \n",
      " 0   id      200000 non-null  int64  \n",
      " 1   cont1   200000 non-null  float64\n",
      " 2   cont2   200000 non-null  float64\n",
      " 3   cont3   200000 non-null  float64\n",
      " 4   cont4   200000 non-null  float64\n",
      " 5   cont5   200000 non-null  float64\n",
      " 6   cont6   200000 non-null  float64\n",
      " 7   cont7   200000 non-null  float64\n",
      " 8   cont8   200000 non-null  float64\n",
      " 9   cont9   200000 non-null  float64\n",
      " 10  cont10  200000 non-null  float64\n",
      " 11  cont11  200000 non-null  float64\n",
      " 12  cont12  200000 non-null  float64\n",
      " 13  cont13  200000 non-null  float64\n",
      " 14  cont14  200000 non-null  float64\n",
      "dtypes: float64(14), int64(1)\n",
      "memory usage: 22.9 MB\n"
     ]
    }
   ],
   "source": [
    "df_test.info()"
   ]
  },
  {
   "cell_type": "code",
   "execution_count": 32,
   "metadata": {},
   "outputs": [
    {
     "data": {
      "text/html": [
       "<div>\n",
       "<style scoped>\n",
       "    .dataframe tbody tr th:only-of-type {\n",
       "        vertical-align: middle;\n",
       "    }\n",
       "\n",
       "    .dataframe tbody tr th {\n",
       "        vertical-align: top;\n",
       "    }\n",
       "\n",
       "    .dataframe thead th {\n",
       "        text-align: right;\n",
       "    }\n",
       "</style>\n",
       "<table border=\"1\" class=\"dataframe\">\n",
       "  <thead>\n",
       "    <tr style=\"text-align: right;\">\n",
       "      <th></th>\n",
       "      <th>count</th>\n",
       "      <th>mean</th>\n",
       "      <th>std</th>\n",
       "      <th>min</th>\n",
       "      <th>25%</th>\n",
       "      <th>50%</th>\n",
       "      <th>75%</th>\n",
       "      <th>max</th>\n",
       "    </tr>\n",
       "  </thead>\n",
       "  <tbody>\n",
       "    <tr>\n",
       "      <th>id</th>\n",
       "      <td>200000.0</td>\n",
       "      <td>250261.031215</td>\n",
       "      <td>144128.894365</td>\n",
       "      <td>0.000000</td>\n",
       "      <td>125538.250000</td>\n",
       "      <td>250389.500000</td>\n",
       "      <td>375240.250000</td>\n",
       "      <td>499990.000000</td>\n",
       "    </tr>\n",
       "    <tr>\n",
       "      <th>cont1</th>\n",
       "      <td>200000.0</td>\n",
       "      <td>0.507222</td>\n",
       "      <td>0.204220</td>\n",
       "      <td>-0.061638</td>\n",
       "      <td>0.343649</td>\n",
       "      <td>0.484292</td>\n",
       "      <td>0.644079</td>\n",
       "      <td>1.017577</td>\n",
       "    </tr>\n",
       "    <tr>\n",
       "      <th>cont2</th>\n",
       "      <td>200000.0</td>\n",
       "      <td>0.498080</td>\n",
       "      <td>0.227866</td>\n",
       "      <td>-0.030548</td>\n",
       "      <td>0.322703</td>\n",
       "      <td>0.553147</td>\n",
       "      <td>0.686518</td>\n",
       "      <td>0.853813</td>\n",
       "    </tr>\n",
       "    <tr>\n",
       "      <th>cont3</th>\n",
       "      <td>200000.0</td>\n",
       "      <td>0.521381</td>\n",
       "      <td>0.200656</td>\n",
       "      <td>0.040867</td>\n",
       "      <td>0.344251</td>\n",
       "      <td>0.551413</td>\n",
       "      <td>0.648656</td>\n",
       "      <td>1.001791</td>\n",
       "    </tr>\n",
       "    <tr>\n",
       "      <th>cont4</th>\n",
       "      <td>200000.0</td>\n",
       "      <td>0.514801</td>\n",
       "      <td>0.232995</td>\n",
       "      <td>0.153318</td>\n",
       "      <td>0.294361</td>\n",
       "      <td>0.482019</td>\n",
       "      <td>0.747133</td>\n",
       "      <td>0.997446</td>\n",
       "    </tr>\n",
       "    <tr>\n",
       "      <th>cont5</th>\n",
       "      <td>200000.0</td>\n",
       "      <td>0.502274</td>\n",
       "      <td>0.220812</td>\n",
       "      <td>0.276679</td>\n",
       "      <td>0.284113</td>\n",
       "      <td>0.451960</td>\n",
       "      <td>0.670831</td>\n",
       "      <td>1.033722</td>\n",
       "    </tr>\n",
       "    <tr>\n",
       "      <th>cont6</th>\n",
       "      <td>200000.0</td>\n",
       "      <td>0.526987</td>\n",
       "      <td>0.218145</td>\n",
       "      <td>0.075104</td>\n",
       "      <td>0.356357</td>\n",
       "      <td>0.471000</td>\n",
       "      <td>0.694422</td>\n",
       "      <td>1.046715</td>\n",
       "    </tr>\n",
       "    <tr>\n",
       "      <th>cont7</th>\n",
       "      <td>200000.0</td>\n",
       "      <td>0.487722</td>\n",
       "      <td>0.180805</td>\n",
       "      <td>-0.024760</td>\n",
       "      <td>0.347336</td>\n",
       "      <td>0.466392</td>\n",
       "      <td>0.580666</td>\n",
       "      <td>1.054225</td>\n",
       "    </tr>\n",
       "    <tr>\n",
       "      <th>cont8</th>\n",
       "      <td>200000.0</td>\n",
       "      <td>0.525284</td>\n",
       "      <td>0.216084</td>\n",
       "      <td>0.219631</td>\n",
       "      <td>0.342148</td>\n",
       "      <td>0.483781</td>\n",
       "      <td>0.685070</td>\n",
       "      <td>1.026280</td>\n",
       "    </tr>\n",
       "    <tr>\n",
       "      <th>cont9</th>\n",
       "      <td>200000.0</td>\n",
       "      <td>0.460257</td>\n",
       "      <td>0.197217</td>\n",
       "      <td>-0.231308</td>\n",
       "      <td>0.330739</td>\n",
       "      <td>0.416900</td>\n",
       "      <td>0.575248</td>\n",
       "      <td>1.001405</td>\n",
       "    </tr>\n",
       "    <tr>\n",
       "      <th>cont10</th>\n",
       "      <td>200000.0</td>\n",
       "      <td>0.520478</td>\n",
       "      <td>0.201645</td>\n",
       "      <td>-0.109759</td>\n",
       "      <td>0.375496</td>\n",
       "      <td>0.458622</td>\n",
       "      <td>0.700157</td>\n",
       "      <td>1.140639</td>\n",
       "    </tr>\n",
       "    <tr>\n",
       "      <th>cont11</th>\n",
       "      <td>200000.0</td>\n",
       "      <td>0.484187</td>\n",
       "      <td>0.219972</td>\n",
       "      <td>0.078859</td>\n",
       "      <td>0.301236</td>\n",
       "      <td>0.442037</td>\n",
       "      <td>0.677691</td>\n",
       "      <td>1.023151</td>\n",
       "    </tr>\n",
       "    <tr>\n",
       "      <th>cont12</th>\n",
       "      <td>200000.0</td>\n",
       "      <td>0.506763</td>\n",
       "      <td>0.218598</td>\n",
       "      <td>0.094504</td>\n",
       "      <td>0.310875</td>\n",
       "      <td>0.485527</td>\n",
       "      <td>0.694630</td>\n",
       "      <td>1.049417</td>\n",
       "    </tr>\n",
       "    <tr>\n",
       "      <th>cont13</th>\n",
       "      <td>200000.0</td>\n",
       "      <td>0.554390</td>\n",
       "      <td>0.229730</td>\n",
       "      <td>0.015367</td>\n",
       "      <td>0.350956</td>\n",
       "      <td>0.491538</td>\n",
       "      <td>0.769323</td>\n",
       "      <td>0.977223</td>\n",
       "    </tr>\n",
       "    <tr>\n",
       "      <th>cont14</th>\n",
       "      <td>200000.0</td>\n",
       "      <td>0.503174</td>\n",
       "      <td>0.208333</td>\n",
       "      <td>0.164500</td>\n",
       "      <td>0.308210</td>\n",
       "      <td>0.431124</td>\n",
       "      <td>0.712664</td>\n",
       "      <td>0.868679</td>\n",
       "    </tr>\n",
       "  </tbody>\n",
       "</table>\n",
       "</div>"
      ],
      "text/plain": [
       "           count           mean            std       min            25%  \\\n",
       "id      200000.0  250261.031215  144128.894365  0.000000  125538.250000   \n",
       "cont1   200000.0       0.507222       0.204220 -0.061638       0.343649   \n",
       "cont2   200000.0       0.498080       0.227866 -0.030548       0.322703   \n",
       "cont3   200000.0       0.521381       0.200656  0.040867       0.344251   \n",
       "cont4   200000.0       0.514801       0.232995  0.153318       0.294361   \n",
       "cont5   200000.0       0.502274       0.220812  0.276679       0.284113   \n",
       "cont6   200000.0       0.526987       0.218145  0.075104       0.356357   \n",
       "cont7   200000.0       0.487722       0.180805 -0.024760       0.347336   \n",
       "cont8   200000.0       0.525284       0.216084  0.219631       0.342148   \n",
       "cont9   200000.0       0.460257       0.197217 -0.231308       0.330739   \n",
       "cont10  200000.0       0.520478       0.201645 -0.109759       0.375496   \n",
       "cont11  200000.0       0.484187       0.219972  0.078859       0.301236   \n",
       "cont12  200000.0       0.506763       0.218598  0.094504       0.310875   \n",
       "cont13  200000.0       0.554390       0.229730  0.015367       0.350956   \n",
       "cont14  200000.0       0.503174       0.208333  0.164500       0.308210   \n",
       "\n",
       "                  50%            75%            max  \n",
       "id      250389.500000  375240.250000  499990.000000  \n",
       "cont1        0.484292       0.644079       1.017577  \n",
       "cont2        0.553147       0.686518       0.853813  \n",
       "cont3        0.551413       0.648656       1.001791  \n",
       "cont4        0.482019       0.747133       0.997446  \n",
       "cont5        0.451960       0.670831       1.033722  \n",
       "cont6        0.471000       0.694422       1.046715  \n",
       "cont7        0.466392       0.580666       1.054225  \n",
       "cont8        0.483781       0.685070       1.026280  \n",
       "cont9        0.416900       0.575248       1.001405  \n",
       "cont10       0.458622       0.700157       1.140639  \n",
       "cont11       0.442037       0.677691       1.023151  \n",
       "cont12       0.485527       0.694630       1.049417  \n",
       "cont13       0.491538       0.769323       0.977223  \n",
       "cont14       0.431124       0.712664       0.868679  "
      ]
     },
     "execution_count": 32,
     "metadata": {},
     "output_type": "execute_result"
    }
   ],
   "source": [
    "df_test.describe().transpose()"
   ]
  },
  {
   "cell_type": "code",
   "execution_count": 33,
   "metadata": {},
   "outputs": [
    {
     "data": {
      "text/plain": [
       "<matplotlib.axes._subplots.AxesSubplot at 0x20f0908afa0>"
      ]
     },
     "execution_count": 33,
     "metadata": {},
     "output_type": "execute_result"
    },
    {
     "data": {
      "image/png": "[encoded data removed]",
      "text/plain": [
       "<Figure size 432x288 with 2 Axes>"
      ]
     },
     "metadata": {
      "needs_background": "light"
     },
     "output_type": "display_data"
    }
   ],
   "source": [
    "sns.heatmap(df_test.isnull(),cmap=\"plasma\")"
   ]
  },
  {
   "cell_type": "code",
   "execution_count": 34,
   "metadata": {},
   "outputs": [
    {
     "data": {
      "text/plain": [
       "0"
      ]
     },
     "execution_count": 34,
     "metadata": {},
     "output_type": "execute_result"
    }
   ],
   "source": [
    "sum(df_test.isnull().any(axis=1))"
   ]
  },
  {
   "cell_type": "code",
   "execution_count": 35,
   "metadata": {
    "scrolled": true
   },
   "outputs": [
    {
     "data": {
      "text/plain": [
       "Index(['id', 'cont1', 'cont2', 'cont3', 'cont4', 'cont5', 'cont6', 'cont7',\n",
       "       'cont8', 'cont9', 'cont10', 'cont11', 'cont12', 'cont13', 'cont14'],\n",
       "      dtype='object')"
      ]
     },
     "execution_count": 35,
     "metadata": {},
     "output_type": "execute_result"
    }
   ],
   "source": [
    "df_test.columns"
   ]
  },
  {
   "cell_type": "markdown",
   "metadata": {},
   "source": [
    "# Train_Test_Split"
   ]
  },
  {
   "cell_type": "code",
   "execution_count": 36,
   "metadata": {},
   "outputs": [
    {
     "data": {
      "text/html": [
       "<div>\n",
       "<style scoped>\n",
       "    .dataframe tbody tr th:only-of-type {\n",
       "        vertical-align: middle;\n",
       "    }\n",
       "\n",
       "    .dataframe tbody tr th {\n",
       "        vertical-align: top;\n",
       "    }\n",
       "\n",
       "    .dataframe thead th {\n",
       "        text-align: right;\n",
       "    }\n",
       "</style>\n",
       "<table border=\"1\" class=\"dataframe\">\n",
       "  <thead>\n",
       "    <tr style=\"text-align: right;\">\n",
       "      <th></th>\n",
       "      <th>id</th>\n",
       "      <th>cont1</th>\n",
       "      <th>cont2</th>\n",
       "      <th>cont3</th>\n",
       "      <th>cont4</th>\n",
       "      <th>cont5</th>\n",
       "      <th>cont6</th>\n",
       "      <th>cont7</th>\n",
       "      <th>cont8</th>\n",
       "      <th>cont9</th>\n",
       "      <th>cont10</th>\n",
       "      <th>cont11</th>\n",
       "      <th>cont12</th>\n",
       "      <th>cont13</th>\n",
       "      <th>cont14</th>\n",
       "    </tr>\n",
       "  </thead>\n",
       "  <tbody>\n",
       "    <tr>\n",
       "      <th>0</th>\n",
       "      <td>1</td>\n",
       "      <td>0.670390</td>\n",
       "      <td>0.811300</td>\n",
       "      <td>0.643968</td>\n",
       "      <td>0.291791</td>\n",
       "      <td>0.284117</td>\n",
       "      <td>0.855953</td>\n",
       "      <td>0.890700</td>\n",
       "      <td>0.285542</td>\n",
       "      <td>0.558245</td>\n",
       "      <td>0.779418</td>\n",
       "      <td>0.921832</td>\n",
       "      <td>0.866772</td>\n",
       "      <td>0.878733</td>\n",
       "      <td>0.305411</td>\n",
       "    </tr>\n",
       "    <tr>\n",
       "      <th>1</th>\n",
       "      <td>3</td>\n",
       "      <td>0.388053</td>\n",
       "      <td>0.621104</td>\n",
       "      <td>0.686102</td>\n",
       "      <td>0.501149</td>\n",
       "      <td>0.643790</td>\n",
       "      <td>0.449805</td>\n",
       "      <td>0.510824</td>\n",
       "      <td>0.580748</td>\n",
       "      <td>0.418335</td>\n",
       "      <td>0.432632</td>\n",
       "      <td>0.439872</td>\n",
       "      <td>0.434971</td>\n",
       "      <td>0.369957</td>\n",
       "      <td>0.369484</td>\n",
       "    </tr>\n",
       "    <tr>\n",
       "      <th>2</th>\n",
       "      <td>4</td>\n",
       "      <td>0.834950</td>\n",
       "      <td>0.227436</td>\n",
       "      <td>0.301584</td>\n",
       "      <td>0.293408</td>\n",
       "      <td>0.606839</td>\n",
       "      <td>0.829175</td>\n",
       "      <td>0.506143</td>\n",
       "      <td>0.558771</td>\n",
       "      <td>0.587603</td>\n",
       "      <td>0.823312</td>\n",
       "      <td>0.567007</td>\n",
       "      <td>0.677708</td>\n",
       "      <td>0.882938</td>\n",
       "      <td>0.303047</td>\n",
       "    </tr>\n",
       "    <tr>\n",
       "      <th>3</th>\n",
       "      <td>5</td>\n",
       "      <td>0.820708</td>\n",
       "      <td>0.160155</td>\n",
       "      <td>0.546887</td>\n",
       "      <td>0.726104</td>\n",
       "      <td>0.282444</td>\n",
       "      <td>0.785108</td>\n",
       "      <td>0.752758</td>\n",
       "      <td>0.823267</td>\n",
       "      <td>0.574466</td>\n",
       "      <td>0.580843</td>\n",
       "      <td>0.769594</td>\n",
       "      <td>0.818143</td>\n",
       "      <td>0.914281</td>\n",
       "      <td>0.279528</td>\n",
       "    </tr>\n",
       "    <tr>\n",
       "      <th>4</th>\n",
       "      <td>8</td>\n",
       "      <td>0.935278</td>\n",
       "      <td>0.421235</td>\n",
       "      <td>0.303801</td>\n",
       "      <td>0.880214</td>\n",
       "      <td>0.665610</td>\n",
       "      <td>0.830131</td>\n",
       "      <td>0.487113</td>\n",
       "      <td>0.604157</td>\n",
       "      <td>0.874658</td>\n",
       "      <td>0.863427</td>\n",
       "      <td>0.983575</td>\n",
       "      <td>0.900464</td>\n",
       "      <td>0.935918</td>\n",
       "      <td>0.435772</td>\n",
       "    </tr>\n",
       "  </tbody>\n",
       "</table>\n",
       "</div>"
      ],
      "text/plain": [
       "   id     cont1     cont2     cont3     cont4     cont5     cont6     cont7  \\\n",
       "0   1  0.670390  0.811300  0.643968  0.291791  0.284117  0.855953  0.890700   \n",
       "1   3  0.388053  0.621104  0.686102  0.501149  0.643790  0.449805  0.510824   \n",
       "2   4  0.834950  0.227436  0.301584  0.293408  0.606839  0.829175  0.506143   \n",
       "3   5  0.820708  0.160155  0.546887  0.726104  0.282444  0.785108  0.752758   \n",
       "4   8  0.935278  0.421235  0.303801  0.880214  0.665610  0.830131  0.487113   \n",
       "\n",
       "      cont8     cont9    cont10    cont11    cont12    cont13    cont14  \n",
       "0  0.285542  0.558245  0.779418  0.921832  0.866772  0.878733  0.305411  \n",
       "1  0.580748  0.418335  0.432632  0.439872  0.434971  0.369957  0.369484  \n",
       "2  0.558771  0.587603  0.823312  0.567007  0.677708  0.882938  0.303047  \n",
       "3  0.823267  0.574466  0.580843  0.769594  0.818143  0.914281  0.279528  \n",
       "4  0.604157  0.874658  0.863427  0.983575  0.900464  0.935918  0.435772  "
      ]
     },
     "execution_count": 36,
     "metadata": {},
     "output_type": "execute_result"
    }
   ],
   "source": [
    "X = df_train.drop(['target'], axis=1)\n",
    "X.head()"
   ]
  },
  {
   "cell_type": "code",
   "execution_count": 37,
   "metadata": {},
   "outputs": [
    {
     "data": {
      "text/plain": [
       "0    7.243043\n",
       "1    8.203331\n",
       "2    7.776091\n",
       "3    6.957716\n",
       "4    7.951046\n",
       "Name: target, dtype: float64"
      ]
     },
     "execution_count": 37,
     "metadata": {},
     "output_type": "execute_result"
    }
   ],
   "source": [
    "y = df_train['target']\n",
    "y.head()"
   ]
  },
  {
   "cell_type": "code",
   "execution_count": 38,
   "metadata": {},
   "outputs": [
    {
     "data": {
      "text/plain": [
       "Index(['id', 'cont1', 'cont2', 'cont3', 'cont4', 'cont5', 'cont6', 'cont7',\n",
       "       'cont8', 'cont9', 'cont10', 'cont11', 'cont12', 'cont13', 'cont14'],\n",
       "      dtype='object')"
      ]
     },
     "execution_count": 38,
     "metadata": {},
     "output_type": "execute_result"
    }
   ],
   "source": [
    "from sklearn.preprocessing import scale\n",
    "cols = X.columns\n",
    "X = pd.DataFrame(scale(X))\n",
    "X.columns = cols\n",
    "X.columns"
   ]
  },
  {
   "cell_type": "code",
   "execution_count": 39,
   "metadata": {},
   "outputs": [],
   "source": [
    "from sklearn.model_selection import train_test_split\n",
    "\n",
    "X_train, X_test, y_train, y_test = train_test_split(X, y, train_size=0.7, test_size = 0.3, random_state=101)"
   ]
  },
  {
   "cell_type": "markdown",
   "metadata": {},
   "source": [
    "# RFE"
   ]
  },
  {
   "cell_type": "code",
   "execution_count": 40,
   "metadata": {},
   "outputs": [],
   "source": [
    "from sklearn.linear_model import LinearRegression\n",
    "from sklearn.feature_selection import RFE"
   ]
  },
  {
   "cell_type": "code",
   "execution_count": 41,
   "metadata": {},
   "outputs": [
    {
     "name": "stderr",
     "output_type": "stream",
     "text": [
      "C:\\ProgramData\\Anaconda3\\lib\\site-packages\\sklearn\\utils\\validation.py:68: FutureWarning: Pass n_features_to_select=50 as keyword args. From version 0.25 passing these as positional arguments will result in an error\n",
      "  warnings.warn(\"Pass {} as keyword args. From version 0.25 \"\n"
     ]
    }
   ],
   "source": [
    "lm = LinearRegression()\n",
    "lm.fit(X_train, y_train)\n",
    "\n",
    "rfe = RFE(lm, 50)            \n",
    "rfe = rfe.fit(X_train, y_train)"
   ]
  },
  {
   "cell_type": "code",
   "execution_count": 42,
   "metadata": {},
   "outputs": [
    {
     "data": {
      "text/html": [
       "<div>\n",
       "<style scoped>\n",
       "    .dataframe tbody tr th:only-of-type {\n",
       "        vertical-align: middle;\n",
       "    }\n",
       "\n",
       "    .dataframe tbody tr th {\n",
       "        vertical-align: top;\n",
       "    }\n",
       "\n",
       "    .dataframe thead th {\n",
       "        text-align: right;\n",
       "    }\n",
       "</style>\n",
       "<table border=\"1\" class=\"dataframe\">\n",
       "  <thead>\n",
       "    <tr style=\"text-align: right;\">\n",
       "      <th></th>\n",
       "      <th>Variable</th>\n",
       "      <th>rfe_support</th>\n",
       "      <th>rfe_ranking</th>\n",
       "    </tr>\n",
       "  </thead>\n",
       "  <tbody>\n",
       "    <tr>\n",
       "      <th>0</th>\n",
       "      <td>id</td>\n",
       "      <td>True</td>\n",
       "      <td>1</td>\n",
       "    </tr>\n",
       "    <tr>\n",
       "      <th>1</th>\n",
       "      <td>cont1</td>\n",
       "      <td>True</td>\n",
       "      <td>1</td>\n",
       "    </tr>\n",
       "    <tr>\n",
       "      <th>2</th>\n",
       "      <td>cont2</td>\n",
       "      <td>True</td>\n",
       "      <td>1</td>\n",
       "    </tr>\n",
       "    <tr>\n",
       "      <th>3</th>\n",
       "      <td>cont3</td>\n",
       "      <td>True</td>\n",
       "      <td>1</td>\n",
       "    </tr>\n",
       "    <tr>\n",
       "      <th>4</th>\n",
       "      <td>cont4</td>\n",
       "      <td>True</td>\n",
       "      <td>1</td>\n",
       "    </tr>\n",
       "    <tr>\n",
       "      <th>5</th>\n",
       "      <td>cont5</td>\n",
       "      <td>True</td>\n",
       "      <td>1</td>\n",
       "    </tr>\n",
       "    <tr>\n",
       "      <th>6</th>\n",
       "      <td>cont6</td>\n",
       "      <td>True</td>\n",
       "      <td>1</td>\n",
       "    </tr>\n",
       "    <tr>\n",
       "      <th>7</th>\n",
       "      <td>cont7</td>\n",
       "      <td>True</td>\n",
       "      <td>1</td>\n",
       "    </tr>\n",
       "    <tr>\n",
       "      <th>8</th>\n",
       "      <td>cont8</td>\n",
       "      <td>True</td>\n",
       "      <td>1</td>\n",
       "    </tr>\n",
       "    <tr>\n",
       "      <th>9</th>\n",
       "      <td>cont9</td>\n",
       "      <td>True</td>\n",
       "      <td>1</td>\n",
       "    </tr>\n",
       "    <tr>\n",
       "      <th>10</th>\n",
       "      <td>cont10</td>\n",
       "      <td>True</td>\n",
       "      <td>1</td>\n",
       "    </tr>\n",
       "    <tr>\n",
       "      <th>11</th>\n",
       "      <td>cont11</td>\n",
       "      <td>True</td>\n",
       "      <td>1</td>\n",
       "    </tr>\n",
       "    <tr>\n",
       "      <th>12</th>\n",
       "      <td>cont12</td>\n",
       "      <td>True</td>\n",
       "      <td>1</td>\n",
       "    </tr>\n",
       "    <tr>\n",
       "      <th>13</th>\n",
       "      <td>cont13</td>\n",
       "      <td>True</td>\n",
       "      <td>1</td>\n",
       "    </tr>\n",
       "    <tr>\n",
       "      <th>14</th>\n",
       "      <td>cont14</td>\n",
       "      <td>True</td>\n",
       "      <td>1</td>\n",
       "    </tr>\n",
       "  </tbody>\n",
       "</table>\n",
       "</div>"
      ],
      "text/plain": [
       "   Variable  rfe_support  rfe_ranking\n",
       "0        id         True            1\n",
       "1     cont1         True            1\n",
       "2     cont2         True            1\n",
       "3     cont3         True            1\n",
       "4     cont4         True            1\n",
       "5     cont5         True            1\n",
       "6     cont6         True            1\n",
       "7     cont7         True            1\n",
       "8     cont8         True            1\n",
       "9     cont9         True            1\n",
       "10   cont10         True            1\n",
       "11   cont11         True            1\n",
       "12   cont12         True            1\n",
       "13   cont13         True            1\n",
       "14   cont14         True            1"
      ]
     },
     "execution_count": 42,
     "metadata": {},
     "output_type": "execute_result"
    }
   ],
   "source": [
    "col = X_train.columns[rfe.support_]\n",
    "\n",
    "temp_df_train = pd.DataFrame(list(zip(X_train.columns,rfe.support_,rfe.ranking_)), columns=['Variable', 'rfe_support', 'rfe_ranking'])\n",
    "temp_df_train = temp_df_train.loc[temp_df_train['rfe_support'] == True]\n",
    "temp_df_train.reset_index(drop=True, inplace=True)\n",
    "\n",
    "temp_df_train"
   ]
  },
  {
   "cell_type": "code",
   "execution_count": 43,
   "metadata": {},
   "outputs": [],
   "source": [
    "X_train_rfe = X_train[col]\n",
    "X_train = X_train_rfe[X_train_rfe.columns]\n",
    "X_test =  X_test[X_train.columns]"
   ]
  },
  {
   "cell_type": "markdown",
   "metadata": {},
   "source": [
    "# Lasso Regression"
   ]
  },
  {
   "cell_type": "code",
   "execution_count": 44,
   "metadata": {},
   "outputs": [],
   "source": [
    "from sklearn.linear_model import Lasso\n",
    "from sklearn.model_selection import GridSearchCV\n",
    "from sklearn.metrics import mean_squared_error"
   ]
  },
  {
   "cell_type": "code",
   "execution_count": 45,
   "metadata": {},
   "outputs": [
    {
     "name": "stdout",
     "output_type": "stream",
     "text": [
      "Fitting 5 folds for each of 11 candidates, totalling 55 fits\n"
     ]
    },
    {
     "name": "stderr",
     "output_type": "stream",
     "text": [
      "[Parallel(n_jobs=1)]: Using backend SequentialBackend with 1 concurrent workers.\n",
      "[Parallel(n_jobs=1)]: Done  55 out of  55 | elapsed:    9.4s finished\n"
     ]
    },
    {
     "data": {
      "text/plain": [
       "GridSearchCV(cv=5, estimator=Lasso(),\n",
       "             param_grid={'alpha': [0.0001, 0.0002, 0.0003, 0.0004, 0.0005,\n",
       "                                   0.001, 0.002, 0.003, 0.004, 0.005, 0.01]},\n",
       "             return_train_score=True, scoring='neg_mean_absolute_error',\n",
       "             verbose=1)"
      ]
     },
     "execution_count": 45,
     "metadata": {},
     "output_type": "execute_result"
    }
   ],
   "source": [
    "lasso = Lasso()\n",
    "\n",
    "params = {'alpha': [0.0001, 0.0002, 0.0003, 0.0004, 0.0005, 0.001, 0.002, 0.003, 0.004, 0.005, 0.01]}\n",
    "\n",
    "folds = 5\n",
    "lasso_model_cv = GridSearchCV(estimator = lasso,                         \n",
    "                        param_grid = params, \n",
    "                        scoring= 'neg_mean_absolute_error', \n",
    "                        cv = folds, \n",
    "                        return_train_score=True,\n",
    "                        verbose = 1)            \n",
    "\n",
    "lasso_model_cv.fit(X_train, y_train)"
   ]
  },
  {
   "cell_type": "code",
   "execution_count": 46,
   "metadata": {},
   "outputs": [
    {
     "data": {
      "text/html": [
       "<div>\n",
       "<style scoped>\n",
       "    .dataframe tbody tr th:only-of-type {\n",
       "        vertical-align: middle;\n",
       "    }\n",
       "\n",
       "    .dataframe tbody tr th {\n",
       "        vertical-align: top;\n",
       "    }\n",
       "\n",
       "    .dataframe thead th {\n",
       "        text-align: right;\n",
       "    }\n",
       "</style>\n",
       "<table border=\"1\" class=\"dataframe\">\n",
       "  <thead>\n",
       "    <tr style=\"text-align: right;\">\n",
       "      <th></th>\n",
       "      <th>param_alpha</th>\n",
       "      <th>mean_train_score</th>\n",
       "      <th>mean_test_score</th>\n",
       "      <th>rank_test_score</th>\n",
       "    </tr>\n",
       "  </thead>\n",
       "  <tbody>\n",
       "    <tr>\n",
       "      <th>0</th>\n",
       "      <td>0.0001</td>\n",
       "      <td>-0.612469</td>\n",
       "      <td>-0.612512</td>\n",
       "      <td>1</td>\n",
       "    </tr>\n",
       "    <tr>\n",
       "      <th>1</th>\n",
       "      <td>0.0002</td>\n",
       "      <td>-0.612489</td>\n",
       "      <td>-0.612531</td>\n",
       "      <td>2</td>\n",
       "    </tr>\n",
       "    <tr>\n",
       "      <th>2</th>\n",
       "      <td>0.0003</td>\n",
       "      <td>-0.612508</td>\n",
       "      <td>-0.612550</td>\n",
       "      <td>3</td>\n",
       "    </tr>\n",
       "    <tr>\n",
       "      <th>3</th>\n",
       "      <td>0.0004</td>\n",
       "      <td>-0.612528</td>\n",
       "      <td>-0.612569</td>\n",
       "      <td>4</td>\n",
       "    </tr>\n",
       "    <tr>\n",
       "      <th>4</th>\n",
       "      <td>0.0005</td>\n",
       "      <td>-0.612547</td>\n",
       "      <td>-0.612589</td>\n",
       "      <td>5</td>\n",
       "    </tr>\n",
       "    <tr>\n",
       "      <th>5</th>\n",
       "      <td>0.001</td>\n",
       "      <td>-0.612650</td>\n",
       "      <td>-0.612692</td>\n",
       "      <td>6</td>\n",
       "    </tr>\n",
       "    <tr>\n",
       "      <th>6</th>\n",
       "      <td>0.002</td>\n",
       "      <td>-0.612860</td>\n",
       "      <td>-0.612897</td>\n",
       "      <td>7</td>\n",
       "    </tr>\n",
       "    <tr>\n",
       "      <th>7</th>\n",
       "      <td>0.003</td>\n",
       "      <td>-0.613060</td>\n",
       "      <td>-0.613096</td>\n",
       "      <td>8</td>\n",
       "    </tr>\n",
       "    <tr>\n",
       "      <th>8</th>\n",
       "      <td>0.004</td>\n",
       "      <td>-0.613271</td>\n",
       "      <td>-0.613305</td>\n",
       "      <td>9</td>\n",
       "    </tr>\n",
       "    <tr>\n",
       "      <th>9</th>\n",
       "      <td>0.005</td>\n",
       "      <td>-0.613492</td>\n",
       "      <td>-0.613525</td>\n",
       "      <td>10</td>\n",
       "    </tr>\n",
       "    <tr>\n",
       "      <th>10</th>\n",
       "      <td>0.01</td>\n",
       "      <td>-0.614641</td>\n",
       "      <td>-0.614668</td>\n",
       "      <td>11</td>\n",
       "    </tr>\n",
       "  </tbody>\n",
       "</table>\n",
       "</div>"
      ],
      "text/plain": [
       "   param_alpha  mean_train_score  mean_test_score  rank_test_score\n",
       "0       0.0001         -0.612469        -0.612512                1\n",
       "1       0.0002         -0.612489        -0.612531                2\n",
       "2       0.0003         -0.612508        -0.612550                3\n",
       "3       0.0004         -0.612528        -0.612569                4\n",
       "4       0.0005         -0.612547        -0.612589                5\n",
       "5        0.001         -0.612650        -0.612692                6\n",
       "6        0.002         -0.612860        -0.612897                7\n",
       "7        0.003         -0.613060        -0.613096                8\n",
       "8        0.004         -0.613271        -0.613305                9\n",
       "9        0.005         -0.613492        -0.613525               10\n",
       "10        0.01         -0.614641        -0.614668               11"
      ]
     },
     "execution_count": 46,
     "metadata": {},
     "output_type": "execute_result"
    }
   ],
   "source": [
    "lasso_cv_results = pd.DataFrame(lasso_model_cv.cv_results_)\n",
    "lasso_cv_results[['param_alpha', 'mean_train_score', 'mean_test_score', 'rank_test_score']].sort_values(by = ['rank_test_score'])"
   ]
  },
  {
   "cell_type": "code",
   "execution_count": 48,
   "metadata": {},
   "outputs": [
    {
     "data": {
      "image/png": "[encoded data removed]",
      "text/plain": [
       "<Figure size 432x288 with 1 Axes>"
      ]
     },
     "metadata": {
      "needs_background": "light"
     },
     "output_type": "display_data"
    }
   ],
   "source": [
    "lasso_cv_results['param_alpha'] = lasso_cv_results['param_alpha'].astype('float64')\n",
    "\n",
    "plt.plot(lasso_cv_results['param_alpha'], lasso_cv_results['mean_train_score'])\n",
    "plt.plot(lasso_cv_results['param_alpha'], lasso_cv_results['mean_test_score'])\n",
    "plt.xlabel('alpha')\n",
    "plt.ylabel('Negative Mean Absolute Error')\n",
    "\n",
    "plt.title(\"Negative Mean Absolute Error and alpha\")\n",
    "plt.legend(['train score', 'test score'], loc='upper right')\n",
    "plt.show()"
   ]
  },
  {
   "cell_type": "code",
   "execution_count": 49,
   "metadata": {},
   "outputs": [
    {
     "data": {
      "text/plain": [
       "Lasso(alpha=0.0001)"
      ]
     },
     "execution_count": 49,
     "metadata": {},
     "output_type": "execute_result"
    }
   ],
   "source": [
    "lasso_model_cv.best_estimator_"
   ]
  },
  {
   "cell_type": "code",
   "execution_count": 50,
   "metadata": {},
   "outputs": [
    {
     "data": {
      "text/plain": [
       "array([-0.00010528, -0.05297186,  0.03053811,  0.01435183,  0.02561781,\n",
       "        0.0053533 ,  0.07236942,  0.03020757,  0.01046785,  0.00849224,\n",
       "       -0.07947197,  0.02699313,  0.03200963, -0.0300074 , -0.00178835])"
      ]
     },
     "execution_count": 50,
     "metadata": {},
     "output_type": "execute_result"
    }
   ],
   "source": [
    "alpha = 0.0001\n",
    "\n",
    "lasso = Lasso(alpha=alpha)\n",
    "        \n",
    "lasso.fit(X_train, y_train) \n",
    "lasso.coef_"
   ]
  },
  {
   "cell_type": "code",
   "execution_count": 51,
   "metadata": {},
   "outputs": [
    {
     "data": {
      "text/plain": [
       "0.527579862953055"
      ]
     },
     "execution_count": 51,
     "metadata": {},
     "output_type": "execute_result"
    }
   ],
   "source": [
    "mean_squared_error(y_test, lasso.predict(X_test))"
   ]
  },
  {
   "cell_type": "code",
   "execution_count": 52,
   "metadata": {},
   "outputs": [
    {
     "data": {
      "text/html": [
       "<div>\n",
       "<style scoped>\n",
       "    .dataframe tbody tr th:only-of-type {\n",
       "        vertical-align: middle;\n",
       "    }\n",
       "\n",
       "    .dataframe tbody tr th {\n",
       "        vertical-align: top;\n",
       "    }\n",
       "\n",
       "    .dataframe thead th {\n",
       "        text-align: right;\n",
       "    }\n",
       "</style>\n",
       "<table border=\"1\" class=\"dataframe\">\n",
       "  <thead>\n",
       "    <tr style=\"text-align: right;\">\n",
       "      <th></th>\n",
       "      <th>Features</th>\n",
       "      <th>Coefficient</th>\n",
       "    </tr>\n",
       "  </thead>\n",
       "  <tbody>\n",
       "    <tr>\n",
       "      <th>0</th>\n",
       "      <td>id</td>\n",
       "      <td>-0.0001</td>\n",
       "    </tr>\n",
       "    <tr>\n",
       "      <th>1</th>\n",
       "      <td>cont1</td>\n",
       "      <td>-0.0530</td>\n",
       "    </tr>\n",
       "    <tr>\n",
       "      <th>2</th>\n",
       "      <td>cont2</td>\n",
       "      <td>0.0305</td>\n",
       "    </tr>\n",
       "    <tr>\n",
       "      <th>3</th>\n",
       "      <td>cont3</td>\n",
       "      <td>0.0144</td>\n",
       "    </tr>\n",
       "    <tr>\n",
       "      <th>4</th>\n",
       "      <td>cont4</td>\n",
       "      <td>0.0256</td>\n",
       "    </tr>\n",
       "    <tr>\n",
       "      <th>5</th>\n",
       "      <td>cont5</td>\n",
       "      <td>0.0054</td>\n",
       "    </tr>\n",
       "    <tr>\n",
       "      <th>6</th>\n",
       "      <td>cont6</td>\n",
       "      <td>0.0724</td>\n",
       "    </tr>\n",
       "    <tr>\n",
       "      <th>7</th>\n",
       "      <td>cont7</td>\n",
       "      <td>0.0302</td>\n",
       "    </tr>\n",
       "    <tr>\n",
       "      <th>8</th>\n",
       "      <td>cont8</td>\n",
       "      <td>0.0105</td>\n",
       "    </tr>\n",
       "    <tr>\n",
       "      <th>9</th>\n",
       "      <td>cont9</td>\n",
       "      <td>0.0085</td>\n",
       "    </tr>\n",
       "    <tr>\n",
       "      <th>10</th>\n",
       "      <td>cont10</td>\n",
       "      <td>-0.0795</td>\n",
       "    </tr>\n",
       "    <tr>\n",
       "      <th>11</th>\n",
       "      <td>cont11</td>\n",
       "      <td>0.0270</td>\n",
       "    </tr>\n",
       "    <tr>\n",
       "      <th>12</th>\n",
       "      <td>cont12</td>\n",
       "      <td>0.0320</td>\n",
       "    </tr>\n",
       "    <tr>\n",
       "      <th>13</th>\n",
       "      <td>cont13</td>\n",
       "      <td>-0.0300</td>\n",
       "    </tr>\n",
       "    <tr>\n",
       "      <th>14</th>\n",
       "      <td>cont14</td>\n",
       "      <td>-0.0018</td>\n",
       "    </tr>\n",
       "  </tbody>\n",
       "</table>\n",
       "</div>"
      ],
      "text/plain": [
       "   Features  Coefficient\n",
       "0        id      -0.0001\n",
       "1     cont1      -0.0530\n",
       "2     cont2       0.0305\n",
       "3     cont3       0.0144\n",
       "4     cont4       0.0256\n",
       "5     cont5       0.0054\n",
       "6     cont6       0.0724\n",
       "7     cont7       0.0302\n",
       "8     cont8       0.0105\n",
       "9     cont9       0.0085\n",
       "10   cont10      -0.0795\n",
       "11   cont11       0.0270\n",
       "12   cont12       0.0320\n",
       "13   cont13      -0.0300\n",
       "14   cont14      -0.0018"
      ]
     },
     "execution_count": 52,
     "metadata": {},
     "output_type": "execute_result"
    }
   ],
   "source": [
    "lasso_df_train = pd.DataFrame({'Features':X_train.columns, 'Coefficient':lasso.coef_.round(4)})\n",
    "lasso_df_train = lasso_df_train[lasso_df_train['Coefficient'] != 0.00]\n",
    "lasso_df_train.reset_index(drop=True, inplace=True)\n",
    "lasso_df_train"
   ]
  },
  {
   "cell_type": "code",
   "execution_count": 53,
   "metadata": {},
   "outputs": [
    {
     "data": {
      "text/plain": [
       "{'id': -0.00010528452290605392,\n",
       " 'cont1': -0.052971860739765994,\n",
       " 'cont2': 0.03053810687753448,\n",
       " 'cont3': 0.014351832876969433,\n",
       " 'cont4': 0.02561780775615998,\n",
       " 'cont5': 0.005353296227093454,\n",
       " 'cont6': 0.07236942198651006,\n",
       " 'cont7': 0.03020756944571001,\n",
       " 'cont8': 0.01046785241574292,\n",
       " 'cont9': 0.00849224375232976,\n",
       " 'cont10': -0.07947196795471101,\n",
       " 'cont11': 0.026993133902200022,\n",
       " 'cont12': 0.03200963489414698,\n",
       " 'cont13': -0.030007399767967808,\n",
       " 'cont14': -0.0017883510969103295}"
      ]
     },
     "execution_count": 53,
     "metadata": {},
     "output_type": "execute_result"
    }
   ],
   "source": [
    "lasso_coeff_dict = dict(pd.Series(lasso.coef_, index = X_train.columns))\n",
    "lasso_coeff_dict"
   ]
  },
  {
   "cell_type": "markdown",
   "metadata": {},
   "source": [
    "# RFE"
   ]
  },
  {
   "cell_type": "code",
   "execution_count": 55,
   "metadata": {},
   "outputs": [
    {
     "name": "stderr",
     "output_type": "stream",
     "text": [
      "C:\\ProgramData\\Anaconda3\\lib\\site-packages\\sklearn\\utils\\validation.py:68: FutureWarning: Pass n_features_to_select=15 as keyword args. From version 0.25 passing these as positional arguments will result in an error\n",
      "  warnings.warn(\"Pass {} as keyword args. From version 0.25 \"\n"
     ]
    }
   ],
   "source": [
    "X_train_lasso = X_train[lasso_df_train.Features]\n",
    "\n",
    "lm = LinearRegression()\n",
    "lm.fit(X_train_lasso, y_train)\n",
    "\n",
    "rfe = RFE(lm, 15)            \n",
    "rfe = rfe.fit(X_train_lasso, y_train)"
   ]
  },
  {
   "cell_type": "code",
   "execution_count": 56,
   "metadata": {},
   "outputs": [
    {
     "data": {
      "text/html": [
       "<div>\n",
       "<style scoped>\n",
       "    .dataframe tbody tr th:only-of-type {\n",
       "        vertical-align: middle;\n",
       "    }\n",
       "\n",
       "    .dataframe tbody tr th {\n",
       "        vertical-align: top;\n",
       "    }\n",
       "\n",
       "    .dataframe thead th {\n",
       "        text-align: right;\n",
       "    }\n",
       "</style>\n",
       "<table border=\"1\" class=\"dataframe\">\n",
       "  <thead>\n",
       "    <tr style=\"text-align: right;\">\n",
       "      <th></th>\n",
       "      <th>Features</th>\n",
       "      <th>rfe_support</th>\n",
       "      <th>rfe_ranking</th>\n",
       "      <th>Coefficient</th>\n",
       "    </tr>\n",
       "  </thead>\n",
       "  <tbody>\n",
       "    <tr>\n",
       "      <th>6</th>\n",
       "      <td>cont6</td>\n",
       "      <td>True</td>\n",
       "      <td>1</td>\n",
       "      <td>0.072369</td>\n",
       "    </tr>\n",
       "    <tr>\n",
       "      <th>12</th>\n",
       "      <td>cont12</td>\n",
       "      <td>True</td>\n",
       "      <td>1</td>\n",
       "      <td>0.032010</td>\n",
       "    </tr>\n",
       "    <tr>\n",
       "      <th>2</th>\n",
       "      <td>cont2</td>\n",
       "      <td>True</td>\n",
       "      <td>1</td>\n",
       "      <td>0.030538</td>\n",
       "    </tr>\n",
       "    <tr>\n",
       "      <th>7</th>\n",
       "      <td>cont7</td>\n",
       "      <td>True</td>\n",
       "      <td>1</td>\n",
       "      <td>0.030208</td>\n",
       "    </tr>\n",
       "    <tr>\n",
       "      <th>11</th>\n",
       "      <td>cont11</td>\n",
       "      <td>True</td>\n",
       "      <td>1</td>\n",
       "      <td>0.026993</td>\n",
       "    </tr>\n",
       "    <tr>\n",
       "      <th>4</th>\n",
       "      <td>cont4</td>\n",
       "      <td>True</td>\n",
       "      <td>1</td>\n",
       "      <td>0.025618</td>\n",
       "    </tr>\n",
       "    <tr>\n",
       "      <th>3</th>\n",
       "      <td>cont3</td>\n",
       "      <td>True</td>\n",
       "      <td>1</td>\n",
       "      <td>0.014352</td>\n",
       "    </tr>\n",
       "    <tr>\n",
       "      <th>8</th>\n",
       "      <td>cont8</td>\n",
       "      <td>True</td>\n",
       "      <td>1</td>\n",
       "      <td>0.010468</td>\n",
       "    </tr>\n",
       "    <tr>\n",
       "      <th>9</th>\n",
       "      <td>cont9</td>\n",
       "      <td>True</td>\n",
       "      <td>1</td>\n",
       "      <td>0.008492</td>\n",
       "    </tr>\n",
       "    <tr>\n",
       "      <th>5</th>\n",
       "      <td>cont5</td>\n",
       "      <td>True</td>\n",
       "      <td>1</td>\n",
       "      <td>0.005353</td>\n",
       "    </tr>\n",
       "  </tbody>\n",
       "</table>\n",
       "</div>"
      ],
      "text/plain": [
       "   Features  rfe_support  rfe_ranking  Coefficient\n",
       "6     cont6         True            1     0.072369\n",
       "12   cont12         True            1     0.032010\n",
       "2     cont2         True            1     0.030538\n",
       "7     cont7         True            1     0.030208\n",
       "11   cont11         True            1     0.026993\n",
       "4     cont4         True            1     0.025618\n",
       "3     cont3         True            1     0.014352\n",
       "8     cont8         True            1     0.010468\n",
       "9     cont9         True            1     0.008492\n",
       "5     cont5         True            1     0.005353"
      ]
     },
     "execution_count": 56,
     "metadata": {},
     "output_type": "execute_result"
    }
   ],
   "source": [
    "def find(x):\n",
    "    return lasso_coeff_dict[x]\n",
    "\n",
    "temp2_df_train = pd.DataFrame(list(zip( X_train_lasso.columns, rfe.support_, rfe.ranking_)), columns=['Features', 'rfe_support', 'rfe_ranking'])\n",
    "temp2_df_train = temp2_df_train.loc[temp2_df_train['rfe_support'] == True]\n",
    "temp2_df_train.reset_index(drop=True, inplace=True)\n",
    "\n",
    "temp2_df_train['Coefficient'] = temp2_df_train['Features'].apply(find)\n",
    "temp2_df_train = temp2_df_train.sort_values(by=['Coefficient'], ascending=False)\n",
    "temp2_df_train = temp2_df_train.head(10)\n",
    "temp2_df_train"
   ]
  },
  {
   "cell_type": "code",
   "execution_count": 58,
   "metadata": {},
   "outputs": [
    {
     "data": {
      "image/png": "[encoded data removed]",
      "text/plain": [
       "<Figure size 1440x1440 with 1 Axes>"
      ]
     },
     "metadata": {
      "needs_background": "light"
     },
     "output_type": "display_data"
    }
   ],
   "source": [
    "plt.figure(figsize=(20,20))\n",
    "plt.subplot(4,3,1)\n",
    "sns.barplot(y = 'Features', x='Coefficient', palette='plasma', data = temp2_df_train)\n",
    "plt.show()"
   ]
  },
  {
   "cell_type": "code",
   "execution_count": 59,
   "metadata": {},
   "outputs": [
    {
     "data": {
      "text/plain": [
       "<matplotlib.axes._subplots.AxesSubplot at 0x20f0a8a3340>"
      ]
     },
     "execution_count": 59,
     "metadata": {},
     "output_type": "execute_result"
    },
    {
     "data": {
      "image/png": "[encoded data removed]",
      "text/plain": [
       "<Figure size 432x288 with 2 Axes>"
      ]
     },
     "metadata": {
      "needs_background": "light"
     },
     "output_type": "display_data"
    }
   ],
   "source": [
    "sns.heatmap(df_train.isnull())"
   ]
  },
  {
   "cell_type": "code",
   "execution_count": null,
   "metadata": {},
   "outputs": [],
   "source": []
  }
 ],
 "metadata": {
  "kernelspec": {
   "display_name": "Python 3",
   "language": "python",
   "name": "python3"
  },
  "language_info": {
   "codemirror_mode": {
    "name": "ipython",
    "version": 3
   },
   "file_extension": ".py",
   "mimetype": "text/x-python",
   "name": "python",
   "nbconvert_exporter": "python",
   "pygments_lexer": "ipython3",
   "version": "3.8.3"
  }
 },
 "nbformat": 4,
 "nbformat_minor": 4
}
