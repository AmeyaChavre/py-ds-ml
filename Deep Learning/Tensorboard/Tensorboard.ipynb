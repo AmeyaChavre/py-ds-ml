{
 "cells": [
  {
   "cell_type": "markdown",
   "metadata": {},
   "source": [
    "# Tensorboard\n",
    "\n",
    "\n",
    "## Data"
   ]
  },
  {
   "cell_type": "code",
   "execution_count": 1,
   "metadata": {},
   "outputs": [],
   "source": [
    "import pandas as pd\n",
    "import numpy as np"
   ]
  },
  {
   "cell_type": "code",
   "execution_count": 2,
   "metadata": {},
   "outputs": [],
   "source": [
    "df = pd.read_csv('cancer_classification.csv')"
   ]
  },
  {
   "cell_type": "markdown",
   "metadata": {},
   "source": [
    "### Train Test Split"
   ]
  },
  {
   "cell_type": "code",
   "execution_count": 3,
   "metadata": {},
   "outputs": [],
   "source": [
    "X = df.drop('benign_0__mal_1',axis=1).values\n",
    "y = df['benign_0__mal_1'].values"
   ]
  },
  {
   "cell_type": "code",
   "execution_count": 4,
   "metadata": {},
   "outputs": [],
   "source": [
    "from sklearn.model_selection import train_test_split"
   ]
  },
  {
   "cell_type": "code",
   "execution_count": 5,
   "metadata": {},
   "outputs": [],
   "source": [
    "X_train, X_test, y_train, y_test = train_test_split(X,y,test_size=0.25,random_state=101)"
   ]
  },
  {
   "cell_type": "markdown",
   "metadata": {},
   "source": [
    "\n",
    "### Scaling Data"
   ]
  },
  {
   "cell_type": "code",
   "execution_count": 6,
   "metadata": {},
   "outputs": [],
   "source": [
    "from sklearn.preprocessing import MinMaxScaler"
   ]
  },
  {
   "cell_type": "code",
   "execution_count": 7,
   "metadata": {},
   "outputs": [],
   "source": [
    "scaler = MinMaxScaler()"
   ]
  },
  {
   "cell_type": "code",
   "execution_count": 8,
   "metadata": {},
   "outputs": [
    {
     "data": {
      "text/plain": [
       "MinMaxScaler()"
      ]
     },
     "execution_count": 8,
     "metadata": {},
     "output_type": "execute_result"
    }
   ],
   "source": [
    "scaler.fit(X_train)"
   ]
  },
  {
   "cell_type": "code",
   "execution_count": 9,
   "metadata": {},
   "outputs": [],
   "source": [
    "X_train = scaler.transform(X_train)\n",
    "X_test = scaler.transform(X_test)"
   ]
  },
  {
   "cell_type": "markdown",
   "metadata": {},
   "source": [
    "## Creating the Model"
   ]
  },
  {
   "cell_type": "code",
   "execution_count": 10,
   "metadata": {},
   "outputs": [],
   "source": [
    "import tensorflow as tf\n",
    "from tensorflow.keras.models import Sequential\n",
    "from tensorflow.keras.layers import Dense, Activation,Dropout"
   ]
  },
  {
   "cell_type": "code",
   "execution_count": 11,
   "metadata": {},
   "outputs": [],
   "source": [
    "from tensorflow.keras.callbacks import EarlyStopping,TensorBoard"
   ]
  },
  {
   "cell_type": "code",
   "execution_count": 12,
   "metadata": {},
   "outputs": [],
   "source": [
    "early_stop = EarlyStopping(monitor='val_loss', mode='min', verbose=1, patience=25)"
   ]
  },
  {
   "cell_type": "code",
   "execution_count": 13,
   "metadata": {},
   "outputs": [
    {
     "data": {
      "text/plain": [
       "'D:\\\\py-ds-ml\\\\Deep Learning\\\\Tensorboard'"
      ]
     },
     "execution_count": 13,
     "metadata": {},
     "output_type": "execute_result"
    }
   ],
   "source": [
    "pwd"
   ]
  },
  {
   "cell_type": "markdown",
   "metadata": {},
   "source": [
    "## Creating the Tensorboard Callback\n",
    "\n",
    "TensorBoard is a visualization tool provided with TensorFlow.\n",
    "\n",
    "This callback logs events for TensorBoard, including:\n",
    "* Metrics summary plots\n",
    "* Training graph visualization\n",
    "* Activation histograms\n",
    "* Sampled profiling\n",
    "\n",
    "If you have installed TensorFlow with pip, you should be able\n",
    "to launch TensorBoard from the command line:\n",
    "\n",
    "```sh\n",
    "tensorboard --logdir=path_to_your_logs\n",
    "```\n",
    "\n",
    "You can find more information about TensorBoard\n",
    "[here](https://www.tensorflow.org/tensorboard/).\n",
    "\n",
    "    Arguments:\n",
    "        log_dir: the path of the directory where to save the log files to be\n",
    "          parsed by TensorBoard.\n",
    "        histogram_freq: frequency (in epochs) at which to compute activation and\n",
    "          weight histograms for the layers of the model. If set to 0, histograms\n",
    "          won't be computed. Validation data (or split) must be specified for\n",
    "          histogram visualizations.\n",
    "        write_graph: whether to visualize the graph in TensorBoard. The log file\n",
    "          can become quite large when write_graph is set to True.\n",
    "        write_images: whether to write model weights to visualize as image in\n",
    "          TensorBoard.\n",
    "        update_freq: `'batch'` or `'epoch'` or integer. When using `'batch'`,\n",
    "          writes the losses and metrics to TensorBoard after each batch. The same\n",
    "          applies for `'epoch'`. If using an integer, let's say `1000`, the\n",
    "          callback will write the metrics and losses to TensorBoard every 1000\n",
    "          samples. Note that writing too frequently to TensorBoard can slow down\n",
    "          your training.\n",
    "        profile_batch: Profile the batch to sample compute characteristics. By\n",
    "          default, it will profile the second batch. Set profile_batch=0 to\n",
    "          disable profiling. Must run in TensorFlow eager mode.\n",
    "        embeddings_freq: frequency (in epochs) at which embedding layers will\n",
    "          be visualized. If set to 0, embeddings won't be visualized.\n",
    "       "
   ]
  },
  {
   "cell_type": "code",
   "execution_count": 14,
   "metadata": {},
   "outputs": [],
   "source": [
    "from datetime import datetime"
   ]
  },
  {
   "cell_type": "code",
   "execution_count": 15,
   "metadata": {},
   "outputs": [
    {
     "data": {
      "text/plain": [
       "'2020-11-20--2358'"
      ]
     },
     "execution_count": 15,
     "metadata": {},
     "output_type": "execute_result"
    }
   ],
   "source": [
    "datetime.now().strftime(\"%Y-%m-%d--%H%M\")"
   ]
  },
  {
   "cell_type": "code",
   "execution_count": 16,
   "metadata": {},
   "outputs": [],
   "source": [
    "# WINDOWS: Use \"logs\\\\fit\"\n",
    "# MACOS/LINUX: Use \"logs\\fit\"\n",
    "\n",
    "log_directory = 'logs\\\\fit'\n",
    "\n",
    "# OPTIONAL: ADD A TIMESTAMP FOR UNIQUE FOLDER\n",
    "# timestamp = datetime.now().strftime(\"%Y-%m-%d--%H%M\")\n",
    "# log_directory = log_directory + '\\\\' + timestamp\n",
    "\n",
    "\n",
    "board = TensorBoard(log_dir=log_directory,histogram_freq=1,\n",
    "    write_graph=True,\n",
    "    write_images=True,\n",
    "    update_freq='epoch',\n",
    "    profile_batch=2,\n",
    "    embeddings_freq=1)"
   ]
  },
  {
   "cell_type": "markdown",
   "metadata": {},
   "source": [
    "Now create the model layers:"
   ]
  },
  {
   "cell_type": "code",
   "execution_count": 17,
   "metadata": {},
   "outputs": [],
   "source": [
    "model = Sequential()\n",
    "model.add(Dense(units=30,activation='relu'))\n",
    "model.add(Dropout(0.5))\n",
    "model.add(Dense(units=15,activation='relu'))\n",
    "model.add(Dropout(0.5))\n",
    "model.add(Dense(units=1,activation='sigmoid'))\n",
    "model.compile(loss='binary_crossentropy', optimizer='adam')"
   ]
  },
  {
   "cell_type": "markdown",
   "metadata": {},
   "source": [
    "## Train the Model"
   ]
  },
  {
   "cell_type": "code",
   "execution_count": 18,
   "metadata": {},
   "outputs": [
    {
     "name": "stdout",
     "output_type": "stream",
     "text": [
      "Epoch 1/600\n",
      " 1/14 [=>............................] - ETA: 0s - loss: 0.7171WARNING:tensorflow:From C:\\ProgramData\\Anaconda3\\lib\\site-packages\\tensorflow\\python\\ops\\summary_ops_v2.py:1277: stop (from tensorflow.python.eager.profiler) is deprecated and will be removed after 2020-07-01.\n",
      "Instructions for updating:\n",
      "use `tf.profiler.experimental.stop` instead.\n",
      " 2/14 [===>..........................] - ETA: 4s - loss: 0.7263WARNING:tensorflow:Callbacks method `on_train_batch_begin` is slow compared to the batch time (batch time: 0.0000s vs `on_train_batch_begin` time: 0.0080s). Check your callbacks.\n",
      "WARNING:tensorflow:Callbacks method `on_train_batch_end` is slow compared to the batch time (batch time: 0.0000s vs `on_train_batch_end` time: 0.6816s). Check your callbacks.\n",
      "14/14 [==============================] - 1s 103ms/step - loss: 0.7100 - val_loss: 0.6712\n",
      "Epoch 2/600\n",
      "14/14 [==============================] - 0s 30ms/step - loss: 0.6807 - val_loss: 0.6540\n",
      "Epoch 3/600\n",
      "14/14 [==============================] - 0s 28ms/step - loss: 0.6633 - val_loss: 0.6377\n",
      "Epoch 4/600\n",
      "14/14 [==============================] - 0s 28ms/step - loss: 0.6461 - val_loss: 0.6211\n",
      "Epoch 5/600\n",
      "14/14 [==============================] - 0s 28ms/step - loss: 0.6272 - val_loss: 0.6038\n",
      "Epoch 6/600\n",
      "14/14 [==============================] - 0s 29ms/step - loss: 0.6278 - val_loss: 0.5849\n",
      "Epoch 7/600\n",
      "14/14 [==============================] - 0s 28ms/step - loss: 0.6094 - val_loss: 0.5691\n",
      "Epoch 8/600\n",
      "14/14 [==============================] - 0s 28ms/step - loss: 0.5741 - val_loss: 0.5424\n",
      "Epoch 9/600\n",
      "14/14 [==============================] - 0s 28ms/step - loss: 0.5555 - val_loss: 0.5143\n",
      "Epoch 10/600\n",
      "14/14 [==============================] - 0s 29ms/step - loss: 0.5520 - val_loss: 0.4923\n",
      "Epoch 11/600\n",
      "14/14 [==============================] - 0s 29ms/step - loss: 0.5415 - val_loss: 0.4666\n",
      "Epoch 12/600\n",
      "14/14 [==============================] - 0s 28ms/step - loss: 0.5141 - val_loss: 0.4418\n",
      "Epoch 13/600\n",
      "14/14 [==============================] - 0s 28ms/step - loss: 0.4923 - val_loss: 0.4150\n",
      "Epoch 14/600\n",
      "14/14 [==============================] - 0s 27ms/step - loss: 0.4848 - val_loss: 0.3896\n",
      "Epoch 15/600\n",
      "14/14 [==============================] - 0s 33ms/step - loss: 0.4562 - val_loss: 0.3689\n",
      "Epoch 16/600\n",
      "14/14 [==============================] - 0s 33ms/step - loss: 0.4427 - val_loss: 0.3469\n",
      "Epoch 17/600\n",
      "14/14 [==============================] - 0s 27ms/step - loss: 0.4159 - val_loss: 0.3234\n",
      "Epoch 18/600\n",
      "14/14 [==============================] - 0s 28ms/step - loss: 0.3849 - val_loss: 0.2971\n",
      "Epoch 19/600\n",
      "14/14 [==============================] - 0s 30ms/step - loss: 0.3723 - val_loss: 0.2752\n",
      "Epoch 20/600\n",
      "14/14 [==============================] - 0s 25ms/step - loss: 0.3688 - val_loss: 0.2618\n",
      "Epoch 21/600\n",
      "14/14 [==============================] - 0s 26ms/step - loss: 0.3670 - val_loss: 0.2562\n",
      "Epoch 22/600\n",
      "14/14 [==============================] - 0s 27ms/step - loss: 0.3461 - val_loss: 0.2393\n",
      "Epoch 23/600\n",
      "14/14 [==============================] - 0s 27ms/step - loss: 0.3281 - val_loss: 0.2264\n",
      "Epoch 24/600\n",
      "14/14 [==============================] - 0s 26ms/step - loss: 0.3353 - val_loss: 0.2182\n",
      "Epoch 25/600\n",
      "14/14 [==============================] - 0s 26ms/step - loss: 0.2990 - val_loss: 0.2012\n",
      "Epoch 26/600\n",
      "14/14 [==============================] - 1s 43ms/step - loss: 0.3055 - val_loss: 0.1940\n",
      "Epoch 27/600\n",
      "14/14 [==============================] - 0s 35ms/step - loss: 0.3179 - val_loss: 0.1878\n",
      "Epoch 28/600\n",
      "14/14 [==============================] - 1s 38ms/step - loss: 0.2857 - val_loss: 0.1861\n",
      "Epoch 29/600\n",
      "14/14 [==============================] - 0s 28ms/step - loss: 0.2880 - val_loss: 0.1915\n",
      "Epoch 30/600\n",
      "14/14 [==============================] - 0s 27ms/step - loss: 0.2959 - val_loss: 0.1795\n",
      "Epoch 31/600\n",
      "14/14 [==============================] - 0s 26ms/step - loss: 0.2683 - val_loss: 0.1645\n",
      "Epoch 32/600\n",
      "14/14 [==============================] - 0s 29ms/step - loss: 0.2789 - val_loss: 0.1627\n",
      "Epoch 33/600\n",
      "14/14 [==============================] - 0s 28ms/step - loss: 0.2544 - val_loss: 0.1525\n",
      "Epoch 34/600\n",
      "14/14 [==============================] - 0s 30ms/step - loss: 0.2484 - val_loss: 0.1506\n",
      "Epoch 35/600\n",
      "14/14 [==============================] - 0s 29ms/step - loss: 0.2360 - val_loss: 0.1484\n",
      "Epoch 36/600\n",
      "14/14 [==============================] - 0s 26ms/step - loss: 0.2415 - val_loss: 0.1449\n",
      "Epoch 37/600\n",
      "14/14 [==============================] - 1s 36ms/step - loss: 0.2402 - val_loss: 0.1430\n",
      "Epoch 38/600\n",
      "14/14 [==============================] - 0s 31ms/step - loss: 0.2235 - val_loss: 0.1322\n",
      "Epoch 39/600\n",
      "14/14 [==============================] - 0s 26ms/step - loss: 0.2296 - val_loss: 0.1367\n",
      "Epoch 40/600\n",
      "14/14 [==============================] - 0s 31ms/step - loss: 0.2326 - val_loss: 0.1279\n",
      "Epoch 41/600\n",
      "14/14 [==============================] - 0s 25ms/step - loss: 0.2187 - val_loss: 0.1336\n",
      "Epoch 42/600\n",
      "14/14 [==============================] - 0s 27ms/step - loss: 0.2076 - val_loss: 0.1215\n",
      "Epoch 43/600\n",
      "14/14 [==============================] - 0s 27ms/step - loss: 0.2192 - val_loss: 0.1188\n",
      "Epoch 44/600\n",
      "14/14 [==============================] - 0s 27ms/step - loss: 0.2016 - val_loss: 0.1249\n",
      "Epoch 45/600\n",
      "14/14 [==============================] - 0s 26ms/step - loss: 0.1918 - val_loss: 0.1204\n",
      "Epoch 46/600\n",
      "14/14 [==============================] - 0s 26ms/step - loss: 0.1860 - val_loss: 0.1106\n",
      "Epoch 47/600\n",
      "14/14 [==============================] - 0s 28ms/step - loss: 0.1963 - val_loss: 0.1156\n",
      "Epoch 48/600\n",
      "14/14 [==============================] - 0s 26ms/step - loss: 0.1991 - val_loss: 0.1118\n",
      "Epoch 49/600\n",
      "14/14 [==============================] - 0s 26ms/step - loss: 0.1774 - val_loss: 0.1096\n",
      "Epoch 50/600\n",
      "14/14 [==============================] - 0s 28ms/step - loss: 0.1643 - val_loss: 0.1013\n",
      "Epoch 51/600\n",
      "14/14 [==============================] - 0s 26ms/step - loss: 0.2012 - val_loss: 0.1009\n",
      "Epoch 52/600\n",
      "14/14 [==============================] - 0s 26ms/step - loss: 0.1918 - val_loss: 0.1063\n",
      "Epoch 53/600\n",
      "14/14 [==============================] - 0s 30ms/step - loss: 0.1491 - val_loss: 0.1036\n",
      "Epoch 54/600\n",
      "14/14 [==============================] - 0s 33ms/step - loss: 0.1773 - val_loss: 0.0954\n",
      "Epoch 55/600\n",
      "14/14 [==============================] - 0s 25ms/step - loss: 0.1839 - val_loss: 0.1051\n",
      "Epoch 56/600\n",
      "14/14 [==============================] - 0s 26ms/step - loss: 0.1711 - val_loss: 0.1029\n",
      "Epoch 57/600\n",
      "14/14 [==============================] - 0s 26ms/step - loss: 0.1469 - val_loss: 0.0915\n",
      "Epoch 58/600\n",
      "14/14 [==============================] - 0s 32ms/step - loss: 0.1732 - val_loss: 0.0911\n",
      "Epoch 59/600\n",
      "14/14 [==============================] - 0s 26ms/step - loss: 0.1575 - val_loss: 0.0924\n",
      "Epoch 60/600\n",
      "14/14 [==============================] - 0s 27ms/step - loss: 0.1517 - val_loss: 0.0921\n",
      "Epoch 61/600\n",
      "14/14 [==============================] - 0s 26ms/step - loss: 0.1393 - val_loss: 0.0905\n",
      "Epoch 62/600\n",
      "14/14 [==============================] - 0s 25ms/step - loss: 0.1525 - val_loss: 0.0950\n",
      "Epoch 63/600\n",
      "14/14 [==============================] - 0s 27ms/step - loss: 0.1371 - val_loss: 0.0975\n",
      "Epoch 64/600\n",
      "14/14 [==============================] - 0s 29ms/step - loss: 0.1562 - val_loss: 0.0979\n",
      "Epoch 65/600\n",
      "14/14 [==============================] - 0s 26ms/step - loss: 0.1296 - val_loss: 0.0911\n",
      "Epoch 66/600\n",
      "14/14 [==============================] - 0s 28ms/step - loss: 0.1419 - val_loss: 0.1011\n",
      "Epoch 67/600\n",
      "14/14 [==============================] - 1s 39ms/step - loss: 0.1653 - val_loss: 0.0989\n",
      "Epoch 68/600\n",
      "14/14 [==============================] - 0s 28ms/step - loss: 0.1472 - val_loss: 0.0965\n",
      "Epoch 69/600\n",
      "14/14 [==============================] - 0s 26ms/step - loss: 0.1582 - val_loss: 0.0879\n",
      "Epoch 70/600\n",
      "14/14 [==============================] - 0s 26ms/step - loss: 0.1415 - val_loss: 0.0956\n",
      "Epoch 71/600\n",
      "14/14 [==============================] - 0s 25ms/step - loss: 0.1531 - val_loss: 0.0864\n",
      "Epoch 72/600\n",
      "14/14 [==============================] - 0s 26ms/step - loss: 0.1348 - val_loss: 0.0929\n",
      "Epoch 73/600\n",
      "14/14 [==============================] - 0s 25ms/step - loss: 0.1365 - val_loss: 0.0917\n",
      "Epoch 74/600\n"
     ]
    },
    {
     "name": "stdout",
     "output_type": "stream",
     "text": [
      "14/14 [==============================] - 0s 26ms/step - loss: 0.1356 - val_loss: 0.0923\n",
      "Epoch 75/600\n",
      "14/14 [==============================] - 0s 28ms/step - loss: 0.1470 - val_loss: 0.0904\n",
      "Epoch 76/600\n",
      "14/14 [==============================] - 0s 25ms/step - loss: 0.1264 - val_loss: 0.0926\n",
      "Epoch 77/600\n",
      "14/14 [==============================] - 0s 26ms/step - loss: 0.1233 - val_loss: 0.0980\n",
      "Epoch 78/600\n",
      "14/14 [==============================] - 0s 25ms/step - loss: 0.1224 - val_loss: 0.0885\n",
      "Epoch 79/600\n",
      "14/14 [==============================] - 0s 34ms/step - loss: 0.1224 - val_loss: 0.0881\n",
      "Epoch 80/600\n",
      "14/14 [==============================] - 0s 31ms/step - loss: 0.1246 - val_loss: 0.0946\n",
      "Epoch 81/600\n",
      "14/14 [==============================] - 0s 26ms/step - loss: 0.1099 - val_loss: 0.0878\n",
      "Epoch 82/600\n",
      "14/14 [==============================] - 0s 26ms/step - loss: 0.1355 - val_loss: 0.0855\n",
      "Epoch 83/600\n",
      "14/14 [==============================] - 0s 26ms/step - loss: 0.1368 - val_loss: 0.1046\n",
      "Epoch 84/600\n",
      "14/14 [==============================] - 0s 26ms/step - loss: 0.1348 - val_loss: 0.0946\n",
      "Epoch 85/600\n",
      "14/14 [==============================] - 0s 27ms/step - loss: 0.0937 - val_loss: 0.0852\n",
      "Epoch 86/600\n",
      "14/14 [==============================] - 0s 26ms/step - loss: 0.1317 - val_loss: 0.0875\n",
      "Epoch 87/600\n",
      "14/14 [==============================] - 0s 26ms/step - loss: 0.1077 - val_loss: 0.1061\n",
      "Epoch 88/600\n",
      "14/14 [==============================] - 0s 26ms/step - loss: 0.1411 - val_loss: 0.0866\n",
      "Epoch 89/600\n",
      "14/14 [==============================] - 0s 26ms/step - loss: 0.1251 - val_loss: 0.0825\n",
      "Epoch 90/600\n",
      "14/14 [==============================] - 0s 26ms/step - loss: 0.1225 - val_loss: 0.0906\n",
      "Epoch 91/600\n",
      "14/14 [==============================] - 0s 26ms/step - loss: 0.1027 - val_loss: 0.0868\n",
      "Epoch 92/600\n",
      "14/14 [==============================] - 0s 26ms/step - loss: 0.1053 - val_loss: 0.0852\n",
      "Epoch 93/600\n",
      "14/14 [==============================] - 0s 26ms/step - loss: 0.1338 - val_loss: 0.0932\n",
      "Epoch 94/600\n",
      "14/14 [==============================] - 0s 30ms/step - loss: 0.1066 - val_loss: 0.0916\n",
      "Epoch 95/600\n",
      "14/14 [==============================] - 0s 26ms/step - loss: 0.1341 - val_loss: 0.0918\n",
      "Epoch 96/600\n",
      "14/14 [==============================] - 0s 28ms/step - loss: 0.0955 - val_loss: 0.0927\n",
      "Epoch 97/600\n",
      "14/14 [==============================] - 0s 25ms/step - loss: 0.1237 - val_loss: 0.0905\n",
      "Epoch 98/600\n",
      "14/14 [==============================] - 0s 26ms/step - loss: 0.1126 - val_loss: 0.0974\n",
      "Epoch 99/600\n",
      "14/14 [==============================] - 0s 26ms/step - loss: 0.1176 - val_loss: 0.0949\n",
      "Epoch 100/600\n",
      "14/14 [==============================] - 0s 32ms/step - loss: 0.1082 - val_loss: 0.0892\n",
      "Epoch 101/600\n",
      "14/14 [==============================] - 0s 27ms/step - loss: 0.0988 - val_loss: 0.0903\n",
      "Epoch 102/600\n",
      "14/14 [==============================] - 0s 25ms/step - loss: 0.1087 - val_loss: 0.0899\n",
      "Epoch 103/600\n",
      "14/14 [==============================] - 0s 26ms/step - loss: 0.1121 - val_loss: 0.0982\n",
      "Epoch 104/600\n",
      "14/14 [==============================] - 0s 26ms/step - loss: 0.1043 - val_loss: 0.0837\n",
      "Epoch 105/600\n",
      "14/14 [==============================] - 0s 31ms/step - loss: 0.0892 - val_loss: 0.0792\n",
      "Epoch 106/600\n",
      "14/14 [==============================] - 0s 26ms/step - loss: 0.1183 - val_loss: 0.1017\n",
      "Epoch 107/600\n",
      "14/14 [==============================] - 0s 26ms/step - loss: 0.1125 - val_loss: 0.0885\n",
      "Epoch 108/600\n",
      "14/14 [==============================] - 0s 26ms/step - loss: 0.0967 - val_loss: 0.0813\n",
      "Epoch 109/600\n",
      "14/14 [==============================] - 0s 32ms/step - loss: 0.1211 - val_loss: 0.0838\n",
      "Epoch 110/600\n",
      "14/14 [==============================] - 0s 25ms/step - loss: 0.0838 - val_loss: 0.0900\n",
      "Epoch 111/600\n",
      "14/14 [==============================] - 0s 25ms/step - loss: 0.1079 - val_loss: 0.0841\n",
      "Epoch 112/600\n",
      "14/14 [==============================] - 0s 26ms/step - loss: 0.1187 - val_loss: 0.0888\n",
      "Epoch 113/600\n",
      "14/14 [==============================] - 0s 25ms/step - loss: 0.1095 - val_loss: 0.0860\n",
      "Epoch 114/600\n",
      "14/14 [==============================] - 0s 25ms/step - loss: 0.1049 - val_loss: 0.0895\n",
      "Epoch 115/600\n",
      "14/14 [==============================] - 0s 26ms/step - loss: 0.0966 - val_loss: 0.0903\n",
      "Epoch 116/600\n",
      "14/14 [==============================] - 0s 26ms/step - loss: 0.0870 - val_loss: 0.1038\n",
      "Epoch 117/600\n",
      "14/14 [==============================] - 0s 31ms/step - loss: 0.0856 - val_loss: 0.0939\n",
      "Epoch 118/600\n",
      "14/14 [==============================] - 0s 26ms/step - loss: 0.1176 - val_loss: 0.0817\n",
      "Epoch 119/600\n",
      "14/14 [==============================] - 0s 28ms/step - loss: 0.1000 - val_loss: 0.0960\n",
      "Epoch 120/600\n",
      "14/14 [==============================] - 0s 30ms/step - loss: 0.1038 - val_loss: 0.0880\n",
      "Epoch 121/600\n",
      "14/14 [==============================] - 0s 26ms/step - loss: 0.1084 - val_loss: 0.0971\n",
      "Epoch 122/600\n",
      "14/14 [==============================] - 0s 26ms/step - loss: 0.0852 - val_loss: 0.0918\n",
      "Epoch 123/600\n",
      "14/14 [==============================] - 0s 30ms/step - loss: 0.1069 - val_loss: 0.0893\n",
      "Epoch 124/600\n",
      "14/14 [==============================] - 0s 27ms/step - loss: 0.1110 - val_loss: 0.1024\n",
      "Epoch 125/600\n",
      "14/14 [==============================] - 0s 26ms/step - loss: 0.1080 - val_loss: 0.0890\n",
      "Epoch 126/600\n",
      "14/14 [==============================] - 0s 27ms/step - loss: 0.0882 - val_loss: 0.0917\n",
      "Epoch 127/600\n",
      "14/14 [==============================] - 0s 26ms/step - loss: 0.0990 - val_loss: 0.0905\n",
      "Epoch 128/600\n",
      "14/14 [==============================] - 0s 27ms/step - loss: 0.0944 - val_loss: 0.0919\n",
      "Epoch 129/600\n",
      "14/14 [==============================] - 0s 26ms/step - loss: 0.0828 - val_loss: 0.0887\n",
      "Epoch 130/600\n",
      "14/14 [==============================] - 0s 28ms/step - loss: 0.0856 - val_loss: 0.0846\n",
      "Epoch 00130: early stopping\n"
     ]
    },
    {
     "data": {
      "text/plain": [
       "<tensorflow.python.keras.callbacks.History at 0x1cbdbd62be0>"
      ]
     },
     "execution_count": 18,
     "metadata": {},
     "output_type": "execute_result"
    }
   ],
   "source": [
    "model.fit(x=X_train, \n",
    "          y=y_train, \n",
    "          epochs=600,\n",
    "          validation_data=(X_test, y_test), verbose=1,\n",
    "          callbacks=[early_stop,board]\n",
    "          )"
   ]
  },
  {
   "cell_type": "markdown",
   "metadata": {},
   "source": [
    "# Running Tensorboard\n"
   ]
  },
  {
   "cell_type": "markdown",
   "metadata": {},
   "source": [
    "## Running through the Command Line\n",
    "\n",
    "**Watch video to see how to run Tensorboard through a command line call.**"
   ]
  },
  {
   "cell_type": "markdown",
   "metadata": {},
   "source": [
    "Tensorboard will run locally in your browser at [http://localhost:6006/](http://localhost:6006/)\n"
   ]
  },
  {
   "cell_type": "code",
   "execution_count": 19,
   "metadata": {},
   "outputs": [
    {
     "name": "stdout",
     "output_type": "stream",
     "text": [
      "logs\\fit\n"
     ]
    }
   ],
   "source": [
    "print(log_directory)"
   ]
  },
  {
   "cell_type": "code",
   "execution_count": 20,
   "metadata": {},
   "outputs": [
    {
     "data": {
      "text/plain": [
       "'D:\\\\py-ds-ml\\\\Deep Learning\\\\Tensorboard'"
      ]
     },
     "execution_count": 20,
     "metadata": {},
     "output_type": "execute_result"
    }
   ],
   "source": [
    "pwd"
   ]
  },
  {
   "cell_type": "markdown",
   "metadata": {},
   "source": [
    "### Use cd at your command line to change directory to the file path reported back by pwd or your current .py file location.\n",
    "### Then run this code at your command line or terminal"
   ]
  },
  {
   "cell_type": "code",
   "execution_count": null,
   "metadata": {},
   "outputs": [],
   "source": [
    "tensorboard --logdir logs\\fit "
   ]
  },
  {
   "cell_type": "code",
   "execution_count": null,
   "metadata": {},
   "outputs": [],
   "source": []
  }
 ],
 "metadata": {
  "kernelspec": {
   "display_name": "Python 3",
   "language": "python",
   "name": "python3"
  },
  "language_info": {
   "codemirror_mode": {
    "name": "ipython",
    "version": 3
   },
   "file_extension": ".py",
   "mimetype": "text/x-python",
   "name": "python",
   "nbconvert_exporter": "python",
   "pygments_lexer": "ipython3",
   "version": "3.8.3"
  }
 },
 "nbformat": 4,
 "nbformat_minor": 2
}
